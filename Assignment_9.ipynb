{
 "cells": [
  {
   "cell_type": "code",
   "execution_count": null,
   "id": "d719c0dc",
   "metadata": {},
   "outputs": [],
   "source": [
    "                                                                    Marvel Samuel Jacob"
   ]
  },
  {
   "cell_type": "code",
   "execution_count": null,
   "id": "067ab78d",
   "metadata": {},
   "outputs": [],
   "source": [
    "1. What is a lambda function in Python, and how does it differ from a regular function?\n",
    "Answer:\n",
    "    Answer:\n",
    "    In Python, a lambda function, also known as an anonymous function, is a way to define a function without a name.\n",
    "    It is a concise and one-line function that can be created using the lambda keyword.\n",
    "    Lambda functions are typically used for simple and short operations that don't require a full function definition.\n",
    "    Difference:-\n",
    "    A lambda function is a way to define small and anonymous functions in Python using a concise syntax.\n",
    "    It differs from regular functions in terms of syntax, function name, body, and usage."
   ]
  },
  {
   "cell_type": "code",
   "execution_count": 3,
   "id": "753234bc",
   "metadata": {},
   "outputs": [
    {
     "name": "stdout",
     "output_type": "stream",
     "text": [
      "12\n",
      "12\n"
     ]
    }
   ],
   "source": [
    "# Lambda function to double a number\n",
    "double = lambda x: x * 2\n",
    "print(double(6)) \n",
    "\n",
    "# Regular function to double a number\n",
    "def double_func(x):\n",
    "    return x * 2\n",
    "print(double_func(6))"
   ]
  },
  {
   "cell_type": "code",
   "execution_count": null,
   "id": "a04a37b0",
   "metadata": {},
   "outputs": [],
   "source": [
    "2. Can a lambda function in Python have multiple arguments? If yes, how can you define and use\n",
    "them?\n",
    "Answer:\n",
    "    Yes, a lambda function in Python can have multiple arguments.\n",
    "    You can define and use multiple arguments in a lambda function by separating them with commas in the argument list."
   ]
  },
  {
   "cell_type": "code",
   "execution_count": 2,
   "id": "2c4733a4",
   "metadata": {},
   "outputs": [
    {
     "name": "stdout",
     "output_type": "stream",
     "text": [
      "7\n"
     ]
    }
   ],
   "source": [
    "add=lambda x,y:x+y\n",
    "print(add(2,5))"
   ]
  },
  {
   "cell_type": "code",
   "execution_count": null,
   "id": "daeb81ad",
   "metadata": {},
   "outputs": [],
   "source": [
    "3. How are lambda functions typically used in Python? Provide an example use case.\n",
    "Answer:\n",
    "    Lambda functions in Python are typically used in scenarios where a small, one-time function is required,\n",
    "    especially when passing functions as arguments to higher-order functions. \n",
    "    It is used in sorting,filtering,map,reduce cases."
   ]
  },
  {
   "cell_type": "code",
   "execution_count": 4,
   "id": "4b78c843",
   "metadata": {},
   "outputs": [
    {
     "name": "stdout",
     "output_type": "stream",
     "text": [
      "[1, 4, 9, 16, 25]\n"
     ]
    }
   ],
   "source": [
    "#Eg:\n",
    "numbers = [1, 2, 3, 4, 5]\n",
    "sqrt_num = list(map(lambda x: x**2, numbers))\n",
    "print(sqrt_num)"
   ]
  },
  {
   "cell_type": "code",
   "execution_count": null,
   "id": "31194aef",
   "metadata": {},
   "outputs": [],
   "source": [
    "4. What are the advantages and limitations of lambda functions compared to regular functions in\n",
    "Python?\n",
    "Answer:\n",
    "   -> Merits:\n",
    "     1.Concise Syntax: Lambda functions provide a compact and concise way to define functions, \n",
    "       especially for simple operations. They allow you to write functional code in a more expressive and readable manner.\n",
    "     2.Anonymous Function: Lambda functions are anonymous, meaning they don't require a separate function name.\n",
    "       This can be advantageous when you need a small function for a specific operation and don't want to \n",
    "       clutter your code with unnecessary function definitions.\n",
    "\n",
    "   -> Demerits:\n",
    "     1.Single Expression: Lambda functions are limited to a single expression. They cannot contain multiple statements\n",
    "       or complex logic. \n",
    "       If you need to perform more complex operations or include multiple statements, regular functions are more appropriate.\n",
    "     2.Lack of Name: Lambda functions are anonymous and do not have a name. \n",
    "       This can make debugging and error tracing more challenging, as the function name won't appear in stack traces\n",
    "       or error messages.\n",
    "     3.Limited Reusability: Lambda functions are best suited for small, one-time operations. "
   ]
  },
  {
   "cell_type": "code",
   "execution_count": null,
   "id": "c60d8a62",
   "metadata": {},
   "outputs": [],
   "source": [
    "5. Are lambda functions in Python able to access variables defined outside of their own scope?\n",
    "Explain with an example.\n",
    "Answer:\n",
    "    Yes, lambda functions in Python can access variables defined outside of their own scope. \n",
    "    They have access to the variables from the enclosing scope in which they are defined. \n",
    "    This behavior is known as lexical scoping or closure"
   ]
  },
  {
   "cell_type": "code",
   "execution_count": 5,
   "id": "5cc16cf7",
   "metadata": {},
   "outputs": [
    {
     "name": "stdout",
     "output_type": "stream",
     "text": [
      "13\n"
     ]
    }
   ],
   "source": [
    "def outer_function():\n",
    "    x = 5\n",
    "    lambda_func = lambda y: x + y\n",
    "    return lambda_func\n",
    "lambda_adder = outer_function()\n",
    "result = lambda_adder(8)\n",
    "print(result) "
   ]
  },
  {
   "cell_type": "code",
   "execution_count": null,
   "id": "c9976af4",
   "metadata": {},
   "outputs": [],
   "source": [
    "6. Write a lambda function to calculate the square of a given number."
   ]
  },
  {
   "cell_type": "code",
   "execution_count": 7,
   "id": "2736151e",
   "metadata": {},
   "outputs": [
    {
     "name": "stdout",
     "output_type": "stream",
     "text": [
      "64\n"
     ]
    }
   ],
   "source": [
    "a = lambda x:x**2\n",
    "print(a(8))"
   ]
  },
  {
   "cell_type": "code",
   "execution_count": null,
   "id": "374738ff",
   "metadata": {},
   "outputs": [],
   "source": [
    "7. Create a lambda function to find the maximum value in a list of integers."
   ]
  },
  {
   "cell_type": "code",
   "execution_count": 10,
   "id": "aac607db",
   "metadata": {},
   "outputs": [
    {
     "name": "stdout",
     "output_type": "stream",
     "text": [
      "55\n"
     ]
    }
   ],
   "source": [
    "import functools\n",
    "l=[1,22,3,55,8,13,21]\n",
    "c=functools.reduce(lambda x,y:x if x>y else y,l)\n",
    "print(c)"
   ]
  },
  {
   "cell_type": "code",
   "execution_count": null,
   "id": "4f45f8d6",
   "metadata": {},
   "outputs": [],
   "source": [
    "8. Implement a lambda function to filter out all the even numbers from a list of integers."
   ]
  },
  {
   "cell_type": "code",
   "execution_count": 11,
   "id": "e56bf524",
   "metadata": {},
   "outputs": [
    {
     "name": "stdout",
     "output_type": "stream",
     "text": [
      "[8, 28, 32, 68, 100]\n"
     ]
    }
   ],
   "source": [
    "l=[1,3,5,8,13,21,28,32,53,68,71,97,100]\n",
    "s=list(filter(lambda x:x%2==0,l))\n",
    "print(s)"
   ]
  },
  {
   "cell_type": "code",
   "execution_count": null,
   "id": "82761a89",
   "metadata": {},
   "outputs": [],
   "source": [
    "9. Write a lambda function to sort a list of strings in ascending order based on the length of each\n",
    "string."
   ]
  },
  {
   "cell_type": "code",
   "execution_count": 13,
   "id": "4809668e",
   "metadata": {},
   "outputs": [
    {
     "name": "stdout",
     "output_type": "stream",
     "text": [
      "['maa', 'pepsi', 'fantas', 'miranda', 'redbullpower']\n"
     ]
    }
   ],
   "source": [
    "strings = ['pepsi', 'miranda', 'fantas', 'maa', 'redbullpower']\n",
    "sorted_strings = sorted(strings, key=lambda x: len(x))\n",
    "print(sorted_strings)"
   ]
  },
  {
   "cell_type": "code",
   "execution_count": null,
   "id": "177e3acc",
   "metadata": {},
   "outputs": [],
   "source": [
    "10. Create a lambda function that takes two lists as input and returns a new list containing the\n",
    "common elements between the two lists."
   ]
  },
  {
   "cell_type": "code",
   "execution_count": 14,
   "id": "5a665d95",
   "metadata": {},
   "outputs": [
    {
     "name": "stdout",
     "output_type": "stream",
     "text": [
      "[4, 5]\n"
     ]
    }
   ],
   "source": [
    "list1 = [1, 2, 3, 4, 5]\n",
    "list2 = [4, 5, 6, 7, 8]\n",
    "\n",
    "common_elements = lambda x, y: list(filter(lambda element: element in y, x))\n",
    "result = common_elements(list1, list2)\n",
    "print(result)"
   ]
  },
  {
   "cell_type": "code",
   "execution_count": null,
   "id": "5c19b9f8",
   "metadata": {},
   "outputs": [],
   "source": [
    "11. Write a recursive function to calculate the factorial of a given positive integer."
   ]
  },
  {
   "cell_type": "code",
   "execution_count": 24,
   "id": "4d1e2a4e",
   "metadata": {},
   "outputs": [
    {
     "name": "stdout",
     "output_type": "stream",
     "text": [
      "The factorial of 4 is: 24\n"
     ]
    }
   ],
   "source": [
    "def factorial(n):\n",
    "    if n == 0 or n == 1:\n",
    "        return 1\n",
    "    else:\n",
    "        return n * factorial(n - 1)\n",
    "number = 4\n",
    "result = factorial(number)\n",
    "print(f\"The factorial of {number} is: {result}\")"
   ]
  },
  {
   "cell_type": "code",
   "execution_count": null,
   "id": "5a3ea98f",
   "metadata": {},
   "outputs": [],
   "source": [
    "12. Implement a recursive function to compute the nth Fibonacci number."
   ]
  },
  {
   "cell_type": "code",
   "execution_count": 20,
   "id": "066e65b2",
   "metadata": {},
   "outputs": [
    {
     "name": "stdout",
     "output_type": "stream",
     "text": [
      "The Fibonacci number is: 13\n"
     ]
    }
   ],
   "source": [
    "def fibonacci(n):\n",
    "    if n <= 0:\n",
    "        return False\n",
    "\n",
    "    if n == 1 or n == 2:\n",
    "        return 1\n",
    "\n",
    "    return fibonacci(n - 1) + fibonacci(n - 2)\n",
    "\n",
    "result = fibonacci(7)\n",
    "print(f\"The Fibonacci number is: {result}\")"
   ]
  },
  {
   "cell_type": "code",
   "execution_count": null,
   "id": "d9c2fe78",
   "metadata": {},
   "outputs": [],
   "source": [
    "13. Create a recursive function to find the sum of all the elements in a given list."
   ]
  },
  {
   "cell_type": "code",
   "execution_count": 26,
   "id": "1c6e3804",
   "metadata": {},
   "outputs": [
    {
     "name": "stdout",
     "output_type": "stream",
     "text": [
      "The sum of the elements in the list[1, 2, 3, 4, 5] is: 15\n"
     ]
    }
   ],
   "source": [
    "def recursive_sum(lst):\n",
    "    if not lst:\n",
    "        return 0\n",
    "    else:\n",
    "        return lst[0] + recursive_sum(lst[1:])\n",
    "\n",
    "numbers = [1, 2, 3, 4, 5]\n",
    "result = recursive_sum(numbers)\n",
    "print(f\"The sum of the elements in the list{numbers} is: {result}\")"
   ]
  },
  {
   "cell_type": "code",
   "execution_count": null,
   "id": "239d67b7",
   "metadata": {},
   "outputs": [],
   "source": [
    "14. Write a recursive function to determine whether a given string is a palindrome.\n"
   ]
  },
  {
   "cell_type": "code",
   "execution_count": 27,
   "id": "96f9ea39",
   "metadata": {},
   "outputs": [
    {
     "name": "stdout",
     "output_type": "stream",
     "text": [
      "The string 'madam' is a palindrome.\n"
     ]
    }
   ],
   "source": [
    "def is_palindrome(string):\n",
    "    if len(string) <= 1:\n",
    "        return True\n",
    "    else:\n",
    "        if string[0] != string[-1]:\n",
    "            return False\n",
    "        else:\n",
    "            return is_palindrome(string[1:-1])\n",
    "\n",
    "word = \"madam\"\n",
    "result = is_palindrome(word)\n",
    "if result:\n",
    "    print(f\"The string '{word}' is a palindrome.\")\n",
    "else:\n",
    "    print(f\"The string '{word}' is not a palindrome.\")"
   ]
  },
  {
   "cell_type": "code",
   "execution_count": null,
   "id": "6d3b3db1",
   "metadata": {},
   "outputs": [],
   "source": [
    "15. Implement a recursive function to find the greatest common divisor (GCD) of two positive integers."
   ]
  },
  {
   "cell_type": "code",
   "execution_count": null,
   "id": "f4545745",
   "metadata": {},
   "outputs": [],
   "source": [
    "def gcd(a, b):\n",
    "    if b == 0:\n",
    "        return a\n",
    "    else:\n",
    "        return gcd(b, a % b)\n",
    "num1 = 48\n",
    "num2 = 60\n",
    "result = gcd(num1, num2)\n",
    "print(f\"The GCD of {num1} and {num2} is: {result}\")"
   ]
  }
 ],
 "metadata": {
  "kernelspec": {
   "display_name": "Python 3 (ipykernel)",
   "language": "python",
   "name": "python3"
  },
  "language_info": {
   "codemirror_mode": {
    "name": "ipython",
    "version": 3
   },
   "file_extension": ".py",
   "mimetype": "text/x-python",
   "name": "python",
   "nbconvert_exporter": "python",
   "pygments_lexer": "ipython3",
   "version": "3.9.13"
  }
 },
 "nbformat": 4,
 "nbformat_minor": 5
}
