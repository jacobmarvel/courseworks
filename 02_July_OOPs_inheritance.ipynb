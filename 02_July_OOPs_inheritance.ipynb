{
 "cells": [
  {
   "cell_type": "code",
   "execution_count": null,
   "id": "9754475b",
   "metadata": {},
   "outputs": [],
   "source": [
    "                                                                        Marvel Samuel Jacob"
   ]
  },
  {
   "cell_type": "code",
   "execution_count": null,
   "id": "5dc5b29b",
   "metadata": {},
   "outputs": [],
   "source": [
    "1. Explain what inheritance is in object-oriented programming and why it is used.\n",
    "Answer:\n",
    "    In object-oriented programming (OOP), inheritance is a fundamental concept that allows a class to inherit properties\n",
    "    and behaviors from another class.\n",
    "    \"It establishes a hierarchical relationship between classes, where a new class, known as a derived class \n",
    "    or subclass,can inherit attributes and methods from an existing class, called the base class or superclass.\n",
    "    "
   ]
  },
  {
   "cell_type": "code",
   "execution_count": null,
   "id": "3bea5450",
   "metadata": {},
   "outputs": [],
   "source": [
    "2. Discuss the concept of single inheritance and multiple inheritance, highlighting their\n",
    "differences and advantages.\n",
    "Answer:\n",
    "    ->Single inheritance is a form of inheritance where a derived class inherits from a single base class.\n",
    "    This means that a class can have only one direct superclass.\n",
    "    Merits: Single inheritance provides a straightforward and linear class hierarchy.\n",
    "    It is easy to understand and maintain as there is only one direct base class.\n",
    "    ->Multiple Inheritance is a feature that allows a derived class to inherit from multiple base classes.\n",
    "    In this approach, a class can have multiple direct superclasses, and it inherits the attributes and \n",
    "    behaviors from all of them.\n",
    "    Multiple inheritance offers flexibility and the ability to combine features from different classes\n",
    "    Demerits:\n",
    "         1.Number of Base Classes: Single inheritance involves inheriting from a single base class\n",
    "           while multiple inheritance allows inheriting from multiple base classes.\n",
    "         2.Complexity: Multiple inheritance is generally more complex than single inheritance due to the potential \n",
    "           for conflicts and the need to manage and resolve them."
   ]
  },
  {
   "cell_type": "code",
   "execution_count": null,
   "id": "b6d0b4ec",
   "metadata": {},
   "outputs": [],
   "source": [
    "3. Explain the terms \"base class\" and \"derived class\" in the context of inheritance.\n",
    "Answer:\n",
    "    ->Base class:\n",
    "            It is the class which gets derived by another class.\n",
    "            It is also called as a parent class which give its attributes and methods access to another class\n",
    "    ->Derived class:\n",
    "            A derived class, also known as a subclass or child class, is a new class that is created by \n",
    "            inheriting properties and behaviors from a base class"
   ]
  },
  {
   "cell_type": "code",
   "execution_count": null,
   "id": "d27afdc7",
   "metadata": {},
   "outputs": [],
   "source": [
    "4. What is the significance of the \"protected\" access modifier in inheritance? How does\n",
    "it differ from \"private\" and \"public\" modifiers?\n",
    "Answer:\n",
    "    ->In public access modifier all the attribute and methods are allowed to access anywhere like class itself \n",
    "      or child class or also we can access them using object.\n",
    "    ->In protected access modifier all the attribute and methods are allowed to access anywhere in class itself \n",
    "      or child class but we can't access them using object.\n",
    "    ->In private access modifier all its attributes and methods are accessible in only self class. \n",
    "      there is no allow to child class and object to access."
   ]
  },
  {
   "cell_type": "code",
   "execution_count": null,
   "id": "53ccbfb1",
   "metadata": {},
   "outputs": [],
   "source": [
    "5. What is the purpose of the \"super\" keyword in inheritance? Provide an example."
   ]
  },
  {
   "cell_type": "code",
   "execution_count": 9,
   "id": "d513ff88",
   "metadata": {},
   "outputs": [],
   "source": [
    "#It is using to get parent class constructor into child class\n",
    "\n",
    "class Vehicle:\n",
    "    def __init__(self,brand,model):\n",
    "        self.brand = brand\n",
    "        self.model = model\n",
    "    def start_eng(self):\n",
    "        print(f\"The {self.brand} {self.model} is ready to go\")\n",
    "class Car(Vehicle):\n",
    "    def __init__(self,brand,model):\n",
    "        super().__init__(brand,model)\n",
    "        #super().__init__(model)\n",
    "    def start_eng(self):\n",
    "        super().start_eng()\n",
    "        "
   ]
  },
  {
   "cell_type": "code",
   "execution_count": 10,
   "id": "e538e59f",
   "metadata": {},
   "outputs": [
    {
     "name": "stdout",
     "output_type": "stream",
     "text": [
      "The Maruti 800 is ready to go\n"
     ]
    }
   ],
   "source": [
    "car = Car(\"Maruti\",\"800\")\n",
    "car.start_eng()"
   ]
  },
  {
   "cell_type": "code",
   "execution_count": null,
   "id": "982cddf2",
   "metadata": {},
   "outputs": [],
   "source": [
    "6. Create a base class called \"Vehicle\" with attributes like \"make\", \"model\", and \"year\".\n",
    "Then, create a derived class called \"Car\" that inherits from \"Vehicle\" and adds an\n",
    "attribute called \"fuel_type\". Implement appropriate methods in both classes."
   ]
  },
  {
   "cell_type": "code",
   "execution_count": 13,
   "id": "04320a6a",
   "metadata": {},
   "outputs": [],
   "source": [
    "class Vehicle():\n",
    "    def __init__(self,make,model,year):\n",
    "        self.make = make\n",
    "        self.model = model\n",
    "        self.year = year\n",
    "    def motor_dept(self):\n",
    "        print(f\"{self.make} {self.model} {self.year} is testing\")\n",
    "        \n",
    "class Car(Vehicle):      # the car inherits from vehicle class\n",
    "    def __init__(self,make,model,year,fuel_type):\n",
    "        super().__init__(make,model,year)  #called from parent class\n",
    "        self.fuel_type = fuel_type\n",
    "    def motor_dept(self):\n",
    "        super().motor_dept()\n",
    "        print(f\"The Car is ready to roll with the {self.fuel_type}\")"
   ]
  },
  {
   "cell_type": "code",
   "execution_count": 14,
   "id": "8695ab64",
   "metadata": {},
   "outputs": [
    {
     "name": "stdout",
     "output_type": "stream",
     "text": [
      "Toyota Camry 2023 is testing\n",
      "The Car is ready to roll with the Hybrid petrol\n"
     ]
    }
   ],
   "source": [
    "car = Car(\"Toyota\",\"Camry\",\"2023\",\"Hybrid petrol\")\n",
    "car.motor_dept()"
   ]
  },
  {
   "cell_type": "code",
   "execution_count": null,
   "id": "99f2af00",
   "metadata": {},
   "outputs": [],
   "source": [
    "7. Create a base class called \"Employee\" with attributes like \"name\" and \"salary.\"\n",
    "Derive two classes, \"Manager\" and \"Developer,\" from \"Employee.\" Add an additional\n",
    "attribute called \"department\" for the \"Manager\" class and \"programming_language\"\n",
    "for the \"Developer\" class."
   ]
  },
  {
   "cell_type": "code",
   "execution_count": 15,
   "id": "5cdbff8a",
   "metadata": {},
   "outputs": [],
   "source": [
    "class Employee:\n",
    "    def __init__(self,name,salary):\n",
    "        self.name = name\n",
    "        self.salary = salary\n",
    "\n",
    "class Manager(Employee): #called from parent class Employee\n",
    "    def __init__(self,name,salary,dept):\n",
    "        super().__init__(name,salary)\n",
    "        self.dept = dept\n",
    "        \n",
    "class Developer(Employee):\n",
    "    def __init__(self,name,salary,programming_language):\n",
    "        super().__init__(name,salary)\n",
    "        self.programming_language = programming_language"
   ]
  },
  {
   "cell_type": "code",
   "execution_count": null,
   "id": "1c57107d",
   "metadata": {},
   "outputs": [],
   "source": [
    "8. Design a base class called \"Shape\" with attributes like \"colour\" and \"border_width.\"\n",
    "Create derived classes, \"Rectangle\" and \"Circle,\" that inherit from \"Shape\" and add\n",
    "specific attributes like \"length\" and \"width\" for the \"Rectangle\" class and \"radius\" for\n",
    "the \"Circle\" class."
   ]
  },
  {
   "cell_type": "code",
   "execution_count": null,
   "id": "16c90cf4",
   "metadata": {},
   "outputs": [],
   "source": [
    "class Shape:\n",
    "    def __init__(self,color,border_width):\n",
    "        self.color = color\n",
    "        self.border_width = border_width\n",
    "        \n",
    "class Rectangle(Shape):\n",
    "    def __init__(self,color,border_width,length,width):\n",
    "        super().__init__(color,border_width)\n",
    "        self.length = length\n",
    "        self.width = width\n",
    "        \n",
    "class Circle(Shape):\n",
    "    def __init__(self,color,border_width,radius):\n",
    "        super().__init__(color,border_width)\n",
    "        self.radius = radius"
   ]
  },
  {
   "cell_type": "code",
   "execution_count": null,
   "id": "b910e9cb",
   "metadata": {},
   "outputs": [],
   "source": [
    "9. Create a base class called \"Device\" with attributes like \"brand\" and \"model.\" Derive\n",
    "two classes, \"Phone\" and \"Tablet,\" from \"Device.\" Add specific attributes like\n",
    "\"screen_size\" for the \"Phone\" class and \"battery_capacity\" for the \"Tablet\" class."
   ]
  },
  {
   "cell_type": "code",
   "execution_count": 1,
   "id": "2031aa59",
   "metadata": {},
   "outputs": [],
   "source": [
    "class Device:\n",
    "    def __init__(self,brand,model):\n",
    "        self.brand=brand\n",
    "        self.model=model\n",
    "    def display_info(self):\n",
    "        print(f\"Brand: {self.brand} and model is {self.model}\")\n",
    "        \n",
    "class Phone(Device):\n",
    "    def __init__(self,brand,model,screen_size):\n",
    "        super().__init__(brand,model)\n",
    "        self.screen_size=screen_size\n",
    "    def display_info(self):\n",
    "        super().display_info()\n",
    "        print(f\"The screen size of {self.brand} {self.model} is {self.screen_size}\")\n",
    "        \n",
    "class Tablet(Device):\n",
    "    def __init__(self,brand,model,battery_capacity):\n",
    "        super().__init__(brand,model)\n",
    "        self.battery_capacity = battery_capacity\n",
    "    def display_info(self):\n",
    "        super().display_info()\n",
    "        print(f\"The battery capacity of {self.brand} {self.model} is {self.battery_capacity}\")"
   ]
  },
  {
   "cell_type": "code",
   "execution_count": 2,
   "id": "0d67c361",
   "metadata": {},
   "outputs": [
    {
     "name": "stdout",
     "output_type": "stream",
     "text": [
      "Brand: Apple and model is 13 Pro\n",
      "The screen size of Apple 13 Pro is 6.3\n"
     ]
    }
   ],
   "source": [
    "oppo = Phone(\"Apple\",\"13 Pro\",\"6.3\")\n",
    "oppo.display_info()"
   ]
  },
  {
   "cell_type": "code",
   "execution_count": 4,
   "id": "6dc2d24e",
   "metadata": {},
   "outputs": [
    {
     "name": "stdout",
     "output_type": "stream",
     "text": [
      "Brand: Apple and model is iPad\n",
      "The battery capacity of Apple iPad is 2800 mAh\n"
     ]
    }
   ],
   "source": [
    "tab = Tablet(\"Apple\",\"iPad\",\"2800 mAh\")\n",
    "tab.display_info()"
   ]
  },
  {
   "cell_type": "code",
   "execution_count": null,
   "id": "9f6e9250",
   "metadata": {},
   "outputs": [],
   "source": [
    "10. Create a base class called \"BankAccount\" with attributes like \"account_number\" and\n",
    "\"balance.\" Derive two classes, \"SavingsAccount\" and \"CheckingAccount,\" from\n",
    "\"BankAccount.\" Add specific methods like \"calculate_interest\" for the\n",
    "\"SavingsAccount\" class and \"deduct_fees\" for the \"CheckingAccount\" class."
   ]
  },
  {
   "cell_type": "code",
   "execution_count": 5,
   "id": "d439e497",
   "metadata": {},
   "outputs": [
    {
     "name": "stdout",
     "output_type": "stream",
     "text": [
      "Account Number: 62456383227\n",
      "Balance: 5000\n",
      "Interest added. Current balance: 5250.0\n",
      "\n",
      "Account Number: 623822523947\n",
      "Balance: 1500\n",
      "Fees deducted. Current balance: 1450\n"
     ]
    }
   ],
   "source": [
    "class BankAccount:\n",
    "    def __init__(self,account_number,balance):\n",
    "        self.account_number = account_number\n",
    "        self.balance = balance\n",
    "    def display_info(self):\n",
    "        print(f\"Account Number: {self.account_number}\")\n",
    "        print(f\"Balance: {self.balance}\")\n",
    "        \n",
    "class SavingsAccount(BankAccount):\n",
    "    def __init__ (self,account_number,balance):\n",
    "        super().__init__(account_number,balance)\n",
    "    def calculate_interest(self, interest_rate):\n",
    "        interest = self.balance * interest_rate\n",
    "        self.balance += interest\n",
    "        print(f\"Interest added. Current balance: {self.balance}\")\n",
    "        \n",
    "\n",
    "class CheckingAccount(BankAccount):\n",
    "    def __init__ (self,account_number,balance):\n",
    "        super().__init__(account_number,balance)\n",
    "    def deduct_fees(self, fee_amount):\n",
    "        self.balance -= fee_amount\n",
    "        print(f\"Fees deducted. Current balance: {self.balance}\")\n",
    "\n",
    "\n",
    "savings = SavingsAccount(\"62456383227\", 5000)\n",
    "savings.display_info()\n",
    "savings.calculate_interest(0.05)\n",
    "print() \n",
    "\n",
    "checking = CheckingAccount(\"623822523947\", 1500)\n",
    "checking.display_info()\n",
    "checking.deduct_fees(50)\n",
    "        \n",
    "    "
   ]
  },
  {
   "cell_type": "code",
   "execution_count": null,
   "id": "354fe4a5",
   "metadata": {},
   "outputs": [],
   "source": []
  }
 ],
 "metadata": {
  "kernelspec": {
   "display_name": "Python 3 (ipykernel)",
   "language": "python",
   "name": "python3"
  },
  "language_info": {
   "codemirror_mode": {
    "name": "ipython",
    "version": 3
   },
   "file_extension": ".py",
   "mimetype": "text/x-python",
   "name": "python",
   "nbconvert_exporter": "python",
   "pygments_lexer": "ipython3",
   "version": "3.9.13"
  }
 },
 "nbformat": 4,
 "nbformat_minor": 5
}
