{
 "cells": [
  {
   "cell_type": "code",
   "execution_count": null,
   "id": "64c02aad",
   "metadata": {},
   "outputs": [],
   "source": [
    "                                                               Marvel Samuel Jacob"
   ]
  },
  {
   "cell_type": "code",
   "execution_count": null,
   "id": "f96bb630",
   "metadata": {},
   "outputs": [],
   "source": [
    "1. Why are functions advantageous to have in your programs?\n",
    "\n",
    "   Answer:\n",
    "    Functions provide several advantages in programming, contributing to code organization, \n",
    "    reusability, and maintainability. It will also reduce the need for duplicate code."
   ]
  },
  {
   "cell_type": "code",
   "execution_count": null,
   "id": "75080e46",
   "metadata": {},
   "outputs": [],
   "source": [
    "2. When does the code in a function run: when it's specified or when it's called?\n",
    "    \n",
    "   Answer:\n",
    "     The code in a function runs when the function is called, not when it's specified."
   ]
  },
  {
   "cell_type": "code",
   "execution_count": null,
   "id": "439c7efa",
   "metadata": {},
   "outputs": [],
   "source": [
    "3. What statement creates a function?\n",
    "  \n",
    "   Answer:\n",
    "    The \"def\" statement is used to create a function."
   ]
  },
  {
   "cell_type": "code",
   "execution_count": 2,
   "id": "17afc9ef",
   "metadata": {},
   "outputs": [
    {
     "data": {
      "text/plain": [
       "10"
      ]
     },
     "execution_count": 2,
     "metadata": {},
     "output_type": "execute_result"
    }
   ],
   "source": [
    "#Eg:\n",
    "def add_num(x,y):\n",
    "    return(x+y)\n",
    "\n",
    "add_num(5,5)\n",
    "   "
   ]
  },
  {
   "cell_type": "code",
   "execution_count": null,
   "id": "bdabd4fb",
   "metadata": {},
   "outputs": [],
   "source": [
    "4. What is the difference between a function and a function call?\n",
    "\n",
    "   Answer:\n",
    "    A function is a block of code that performs a specific task, and a function call is the use of \n",
    "    that code to achieve the task."
   ]
  },
  {
   "cell_type": "code",
   "execution_count": 3,
   "id": "09b5dd27",
   "metadata": {},
   "outputs": [
    {
     "data": {
      "text/plain": [
       "10"
      ]
     },
     "execution_count": 3,
     "metadata": {},
     "output_type": "execute_result"
    }
   ],
   "source": [
    "#eg:\n",
    "#function definition\n",
    "def add_num(x,y):\n",
    "    return(x+y)\n",
    "#function call\n",
    "add_num(5,5)"
   ]
  },
  {
   "cell_type": "code",
   "execution_count": null,
   "id": "c945e801",
   "metadata": {},
   "outputs": [],
   "source": [
    "5. How many global scopes are there in a Python program? How many local scopes?\n",
    "\n",
    "   Answer:\n",
    "     There is one global scope which is the outermost scope that spans the entire program,\n",
    "     and a local scope is created whenever a function is called."
   ]
  },
  {
   "cell_type": "code",
   "execution_count": null,
   "id": "e93a1ffe",
   "metadata": {},
   "outputs": [],
   "source": [
    "6. What happens to variables in a local scope when the function call returns?\n",
    " \n",
    "   Answer:\n",
    "     Variables in a local scope are destroyed or deallocated when the function call returns."
   ]
  },
  {
   "cell_type": "code",
   "execution_count": null,
   "id": "1ffc3966",
   "metadata": {},
   "outputs": [],
   "source": [
    "7. What is the concept of a return value? Is it possible to have a return value in an expression?\n",
    " \n",
    "   Answer:\n",
    "     The concept of a return value in programming refers to the value that a function \n",
    "     provides as output when it completes its execution. "
   ]
  },
  {
   "cell_type": "code",
   "execution_count": 4,
   "id": "49cf1303",
   "metadata": {},
   "outputs": [
    {
     "data": {
      "text/plain": [
       "6"
      ]
     },
     "execution_count": 4,
     "metadata": {},
     "output_type": "execute_result"
    }
   ],
   "source": [
    "#Yes, it is possible to use a return value in an expression.Eg:\n",
    "def multiply(a,b):\n",
    "    return(a*b)\n",
    "\n",
    "multiply(2,3)"
   ]
  },
  {
   "cell_type": "code",
   "execution_count": null,
   "id": "09cf2080",
   "metadata": {},
   "outputs": [],
   "source": [
    "8. If a function does not have a return statement, what is the return value of a call to that function?\n",
    "\n",
    "   Answer:\n",
    "     If there is no return statement for a function, its return value is None."
   ]
  },
  {
   "cell_type": "code",
   "execution_count": null,
   "id": "1f1b3964",
   "metadata": {},
   "outputs": [],
   "source": [
    "9. How do you make a function variable refer to the global variable?\n",
    " \n",
    "   Answer:\n",
    "      We can use the global keyword within the function. This informs the function that the variable \n",
    "      being referred to is a global variable, not a local one. "
   ]
  },
  {
   "cell_type": "code",
   "execution_count": null,
   "id": "1558bb4f",
   "metadata": {},
   "outputs": [],
   "source": [
    "10. What is the data type of None?\n",
    "\n",
    "    Answer:\n",
    "      The data type of None in Python is NoneType.\n",
    "    "
   ]
  },
  {
   "cell_type": "code",
   "execution_count": null,
   "id": "ce85a9c6",
   "metadata": {},
   "outputs": [],
   "source": [
    "11. What does the sentence import areallyourpetsnamederic do?\n",
    "\n",
    "    Answer:\n",
    "      That import statement imports a module named areallyourpetsnamederic. \n",
    "      But \"import areallyourpetsnamederic\" does not have any standard meaning or any packages in Python."
   ]
  },
  {
   "cell_type": "code",
   "execution_count": null,
   "id": "8354ef51",
   "metadata": {},
   "outputs": [],
   "source": [
    "12. If you had a bacon() feature in a spam module, what would you call it after importing spam?"
   ]
  },
  {
   "cell_type": "code",
   "execution_count": null,
   "id": "cffd4d66",
   "metadata": {},
   "outputs": [],
   "source": [
    "#Answer:\n",
    "import spam\n",
    "\n",
    "spam.bacon()\n"
   ]
  },
  {
   "cell_type": "code",
   "execution_count": null,
   "id": "bd97467d",
   "metadata": {},
   "outputs": [],
   "source": [
    "13. What can you do to save a programme from crashing if it encounters an error?\n",
    "\n",
    "    Answer:\n",
    "      Place the line of code that might cause an error in a try clause and use except block to handle the error."
   ]
  },
  {
   "cell_type": "code",
   "execution_count": null,
   "id": "b7afbe67",
   "metadata": {},
   "outputs": [],
   "source": [
    "14. What is the purpose of the try clause? What is the purpose of the except clause?\n",
    " \n",
    "    Answer:\n",
    "       try: This is where we put the code that might cause an issue.\n",
    "       except: This is where we tell the program what to do if there is an issue."
   ]
  },
  {
   "cell_type": "code",
   "execution_count": 5,
   "id": "11afe826",
   "metadata": {},
   "outputs": [
    {
     "name": "stdout",
     "output_type": "stream",
     "text": [
      "Oops! Division by zero.\n"
     ]
    }
   ],
   "source": [
    "try:\n",
    "    result = 10 / 0\n",
    "except ZeroDivisionError:\n",
    "    print(\"Oops! Division by zero.\")"
   ]
  },
  {
   "cell_type": "code",
   "execution_count": null,
   "id": "752c9472",
   "metadata": {},
   "outputs": [],
   "source": []
  }
 ],
 "metadata": {
  "kernelspec": {
   "display_name": "Python 3 (ipykernel)",
   "language": "python",
   "name": "python3"
  },
  "language_info": {
   "codemirror_mode": {
    "name": "ipython",
    "version": 3
   },
   "file_extension": ".py",
   "mimetype": "text/x-python",
   "name": "python",
   "nbconvert_exporter": "python",
   "pygments_lexer": "ipython3",
   "version": "3.9.13"
  }
 },
 "nbformat": 4,
 "nbformat_minor": 5
}
