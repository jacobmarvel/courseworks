{
 "cells": [
  {
   "cell_type": "code",
   "execution_count": null,
   "id": "dd79628b",
   "metadata": {},
   "outputs": [],
   "source": [
    "                                                                      Marvel Samuel Jacob"
   ]
  },
  {
   "cell_type": "code",
   "execution_count": null,
   "id": "f6864e74",
   "metadata": {},
   "outputs": [],
   "source": [
    "1. Create two int type variables, apply addition, subtraction, division and multiplications\n",
    "and store the results in variables. Then print the data in the following format by calling the\n",
    "variables:\n",
    "First variable is __ & second variable is __.\n",
    "Addition: __ + __ = __\n",
    "Subtraction: __ - __ = __\n",
    "Multiplication: __ * __ = __\n",
    "Division: __ / __ = __"
   ]
  },
  {
   "cell_type": "code",
   "execution_count": 2,
   "id": "c4ba218e",
   "metadata": {},
   "outputs": [
    {
     "name": "stdout",
     "output_type": "stream",
     "text": [
      "First variable is 10 & second variable is 5\n",
      "Addition: 10 + 5 = 15\n",
      "Subtraction: 10 - 5 = 5\n",
      "Multiplication: 10 * 5 = 50\n",
      "Division: 10 / 5 = 2.0\n"
     ]
    }
   ],
   "source": [
    "#Create two int variables\n",
    "first_variable = 10\n",
    "second_variable = 5\n",
    "\n",
    "addition = first_variable + second_variable\n",
    "subtraction = first_variable - second_variable\n",
    "multiplication = first_variable * second_variable\n",
    "division = first_variable / second_variable\n",
    "\n",
    "print(\"First variable is\", first_variable, \"& second variable is\", second_variable)\n",
    "print(\"Addition:\", first_variable, \"+\", second_variable, \"=\", addition)\n",
    "print(\"Subtraction:\", first_variable, \"-\", second_variable, \"=\", subtraction)\n",
    "print(\"Multiplication:\", first_variable, \"*\", second_variable, \"=\", multiplication)\n",
    "print(\"Division:\", first_variable, \"/\", second_variable, \"=\", division)"
   ]
  },
  {
   "cell_type": "code",
   "execution_count": null,
   "id": "3018881f",
   "metadata": {},
   "outputs": [],
   "source": [
    "2. What is the difference between the following operators:\n",
    "(i) ‘/’ & ‘//’\n",
    "(ii) ‘**’ & ‘^’"
   ]
  },
  {
   "cell_type": "code",
   "execution_count": 8,
   "id": "a49bd8b1",
   "metadata": {},
   "outputs": [
    {
     "name": "stdout",
     "output_type": "stream",
     "text": [
      "2.5\n",
      "2\n"
     ]
    }
   ],
   "source": [
    "#i)\n",
    "result1 = 5 / 2   # Performs regular division and returns a floating-point result.\n",
    "result2 = 5 // 2  # Performs floor division and returns the quotient as an integer \n",
    "print(result1)\n",
    "print(result2)"
   ]
  },
  {
   "cell_type": "code",
   "execution_count": 9,
   "id": "b500e914",
   "metadata": {},
   "outputs": [
    {
     "name": "stdout",
     "output_type": "stream",
     "text": [
      "8\n",
      "6\n"
     ]
    }
   ],
   "source": [
    "#ii)\n",
    "result3 = 2 ** 3  #(Exponentiation Operator): Raises the left operand to the power of the right operand.\n",
    "result4 = 5 ^ 3   # '^' is a bitwiseXOR operator\n",
    "print(result3)\n",
    "print(result4)"
   ]
  },
  {
   "cell_type": "code",
   "execution_count": null,
   "id": "23081e2b",
   "metadata": {},
   "outputs": [],
   "source": [
    "3. List the logical operators."
   ]
  },
  {
   "cell_type": "code",
   "execution_count": 3,
   "id": "d1340952",
   "metadata": {},
   "outputs": [
    {
     "name": "stdout",
     "output_type": "stream",
     "text": [
      "True\n",
      "True\n",
      "True\n"
     ]
    }
   ],
   "source": [
    "\"\"\"AND operator. It returns True if both operands are True, otherwise it returns False.\n",
    "   OR operator. It returns True if at least one of the operands is True, otherwise it returns False.\n",
    "   NOT operator. It negates the truth value of the operand.\n",
    "          If the operand is True, not returns False, and if the operand is False, not returns True.\"\"\"\n",
    "print(True and True)\n",
    "print(True or False)\n",
    "print(not False)"
   ]
  },
  {
   "cell_type": "code",
   "execution_count": null,
   "id": "01d918e5",
   "metadata": {},
   "outputs": [],
   "source": [
    "4. Explain right shift operator and left shift operator with examples."
   ]
  },
  {
   "cell_type": "code",
   "execution_count": 11,
   "id": "8cdc24c0",
   "metadata": {},
   "outputs": [
    {
     "name": "stdout",
     "output_type": "stream",
     "text": [
      "4\n",
      "16\n"
     ]
    }
   ],
   "source": [
    "\"\"\"In Python, the right shift ('>>') and left shift ('<<') operators are used to perform bitwise shifting on integers.\n",
    "These operators shift the binary representation of the integer by a specified number of positions to the right or left, \n",
    "respectively.\"\"\"\n",
    "#Example of right shift operator\n",
    "number1 = 16  # Binary representation: 10000\n",
    "# Right shift by 2 positions\n",
    "result1 = number1 >> 2  # Binary representation: 100\n",
    "print(result1) \n",
    "\n",
    "#Example of left shift operator\n",
    "number = 4  # Binary representation: 100\n",
    "# Left shift by 2 positions\n",
    "result = number << 2  # Binary representation: 10000\n",
    "print(result)  "
   ]
  },
  {
   "cell_type": "code",
   "execution_count": null,
   "id": "4e1e4128",
   "metadata": {},
   "outputs": [],
   "source": [
    "5. Create a list containing int type data of length 15. Then write a code to check if 10 is\n",
    "present in the list or not."
   ]
  },
  {
   "cell_type": "code",
   "execution_count": 10,
   "id": "0dc75f14",
   "metadata": {},
   "outputs": [
    {
     "name": "stdout",
     "output_type": "stream",
     "text": [
      "10 is present in the list.\n"
     ]
    }
   ],
   "source": [
    "my_list = [5, 3, 8, 10, 6, 9, 7, 2, 1, 4, 12, 15, 11, 13, 14]\n",
    "\n",
    "# Check if 10 is present in the list\n",
    "if 10 in my_list:\n",
    "    print(\"10 is present in the list.\")\n",
    "else:\n",
    "    print(\"10 is not present in the list.\")"
   ]
  },
  {
   "cell_type": "code",
   "execution_count": null,
   "id": "f55bd764",
   "metadata": {},
   "outputs": [],
   "source": []
  }
 ],
 "metadata": {
  "kernelspec": {
   "display_name": "Python 3 (ipykernel)",
   "language": "python",
   "name": "python3"
  },
  "language_info": {
   "codemirror_mode": {
    "name": "ipython",
    "version": 3
   },
   "file_extension": ".py",
   "mimetype": "text/x-python",
   "name": "python",
   "nbconvert_exporter": "python",
   "pygments_lexer": "ipython3",
   "version": "3.9.13"
  }
 },
 "nbformat": 4,
 "nbformat_minor": 5
}
