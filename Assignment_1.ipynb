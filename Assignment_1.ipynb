{
 "cells": [
  {
   "cell_type": "markdown",
   "id": "1bca0457",
   "metadata": {},
   "source": [
    "                                                                                        Marvel Samuel Jacob"
   ]
  },
  {
   "cell_type": "code",
   "execution_count": null,
   "id": "9ea59d75",
   "metadata": {},
   "outputs": [],
   "source": [
    "1. In the below elements which of them are values or an expression? eg:- values can be\n",
    "integer or string and expressions will be mathematical operators.\n",
    "\n",
    "    a) *\n",
    "    \n",
    "    b) 'hello'\n",
    "    \n",
    "    c) -87.8\n",
    "    \n",
    "    d) -\n",
    "    \n",
    "    e) /\n",
    "    \n",
    "    f) +\n",
    "    \n",
    "    g) 6\n",
    "    \n",
    "Answer: \n",
    "    \n",
    "    a) * is a multiplication operator comes under expressions.\n",
    "       Eg: result = 2 * 3 (result will be 6)\n",
    "            \n",
    "    b) 'hello' is a string value\n",
    "       Eg: greetings = 'hello'\n",
    "            \n",
    "    c) -87.8 is a float value\n",
    "       Eg: temperature = -87.8\n",
    "            \n",
    "    d) - is a substraction operator comes under expressions.\n",
    "       Eg: difference = 10 - 5 (difference will be 5)\n",
    "    \n",
    "    e) / is a division operator comes under expressions.\n",
    "       Eg: quotient = 8/2 (quotient will be 4)\n",
    "            \n",
    "    f) + is an addition operator comes under expressions.\n",
    "       Eg: sum = 2 + 3 (sum will be 5)\n",
    "            \n",
    "    g) 6 is an integer value\n",
    "       Eg: a = 6"
   ]
  },
  {
   "cell_type": "code",
   "execution_count": null,
   "id": "eca643ff",
   "metadata": {},
   "outputs": [],
   "source": [
    "2. What is the difference between string and variable?\n",
    "\n",
    "                         String                                                  \n",
    "                                                          \n",
    "a) String is a text in program which consists of a sequence of characters, such as letters, numbers, and symbols.\n",
    "\n",
    "b) Strings are enclosed in single (' ') or double (\" \") quotation marks.   \n",
    "\n",
    "c) Eg: name = \"Marvel\"                                       \n",
    "        \n",
    "                        Variable\n",
    "\n",
    "a) Variable is a placeholder where we can store our data and manage data.\n",
    "\n",
    "b) They have a name (identifier) and a value associated with that name.\n",
    "\n",
    "c) Eg: name = \"Marvel\" or age = 24"
   ]
  },
  {
   "cell_type": "code",
   "execution_count": null,
   "id": "e297863f",
   "metadata": {},
   "outputs": [],
   "source": [
    "3. Describe three different data types.\n",
    "\n",
    "   Answer:\n",
    "    -> Integer(int):\n",
    "           An integer is a data type that represents whole numbers without any decimal points.\n",
    "           Eg: 5, -12, 0.\n",
    "\n",
    "    -> Float(float or double):\n",
    "           A float (floating-point number) is a data type that represents numbers with decimal points \n",
    "           or numbers in exponential form.\n",
    "           Eg: 3.14, -0.001, 2.5e-5.\n",
    "\n",
    "    -> String:\n",
    "           A string is a data type that represents a sequence of characters, typically used to represent text.\n",
    "           Example: 'hello', \"world\", '123'."
   ]
  },
  {
   "cell_type": "code",
   "execution_count": null,
   "id": "a3fc8907",
   "metadata": {},
   "outputs": [],
   "source": [
    "4. What is an expression made up of? What do all expressions do?\n",
    "\n",
    "   Answer: \n",
    "      An expression is a combination of values, variables, operators, and function calls that, \n",
    "      when evaluated, results in a single value.ie, it's a piece of code that produces a value."
   ]
  },
  {
   "cell_type": "code",
   "execution_count": 1,
   "id": "8848b0b9",
   "metadata": {},
   "outputs": [
    {
     "data": {
      "text/plain": [
       "16"
      ]
     },
     "execution_count": 1,
     "metadata": {},
     "output_type": "execute_result"
    }
   ],
   "source": [
    "#Eg:\n",
    "result = 2 * (3 + 5)\n",
    "result"
   ]
  },
  {
   "cell_type": "code",
   "execution_count": null,
   "id": "a8349f8d",
   "metadata": {},
   "outputs": [],
   "source": [
    "5. This assignment statements, like spam = 10. What is the difference between an expression and a statement?\n",
    "\n",
    "   Answer:\n",
    "     -> An expression is a combination of values, variables, operators, and/or function calls that, when evaluated, \n",
    "      results in a single value.\n",
    "      It can be a simple value (like 5 or 'hello')\n",
    "    \n",
    "     -> An assignment statement is a type of statement in programming that assigns a value to a variable.\n",
    "      It involves the use of the assignment operator (=) to associate a variable name with a specific value "
   ]
  },
  {
   "cell_type": "code",
   "execution_count": 4,
   "id": "dab1310f",
   "metadata": {},
   "outputs": [
    {
     "name": "stdout",
     "output_type": "stream",
     "text": [
      "5\n",
      "Hello, world!\n"
     ]
    }
   ],
   "source": [
    "#Eg for an expression\n",
    "result = len(\"hello\")\n",
    "print(result)\n",
    "#Eg for an statement\n",
    "greeting = \"Hello, \" + \"world!\"\n",
    "print(greeting)"
   ]
  },
  {
   "cell_type": "code",
   "execution_count": null,
   "id": "371aec95",
   "metadata": {},
   "outputs": [],
   "source": [
    "6. After running the following code, what does the variable bacon contain?\n",
    "   bacon = 22\n",
    "   bacon + 1\n",
    "\n",
    "   Answer:\n",
    "      bacon contains 22 itself because The expression bacon + 1 is evaluated, \n",
    "      but the result is not assigned back to the variable bacon. \n",
    "      If we want to update the value of bacon, we should use an assignment statement:"
   ]
  },
  {
   "cell_type": "code",
   "execution_count": 5,
   "id": "82de04bc",
   "metadata": {},
   "outputs": [
    {
     "name": "stdout",
     "output_type": "stream",
     "text": [
      "23\n"
     ]
    }
   ],
   "source": [
    "bacon = 22\n",
    "bacon+=1\n",
    "print(bacon)"
   ]
  },
  {
   "cell_type": "code",
   "execution_count": null,
   "id": "2dc1fd1e",
   "metadata": {},
   "outputs": [],
   "source": [
    "7. What should the values of the following two terms be?\n",
    " 'spam' + 'spamspam'\n",
    " 'spam' * 3"
   ]
  },
  {
   "cell_type": "code",
   "execution_count": 7,
   "id": "c1997d98",
   "metadata": {},
   "outputs": [
    {
     "name": "stdout",
     "output_type": "stream",
     "text": [
      "spamspamspam\n",
      "spamspamspam\n"
     ]
    }
   ],
   "source": [
    "# Answer: \n",
    "a = 'spam' + 'spamspam'\n",
    "print(a) # here concatenation of two strings\n",
    "\n",
    "b = 'spam' * 3\n",
    "print(b) #here repetition or multiplication of the string by 3"
   ]
  },
  {
   "cell_type": "code",
   "execution_count": null,
   "id": "371d27bf",
   "metadata": {},
   "outputs": [],
   "source": [
    "8. Why is eggs a valid variable name while 100 is invalid?\n",
    "\n",
    "   Answer:\n",
    "      ->A Variable name should start with a letter(A,a - Z,z) or underscore.\n",
    "      It cannot start with letters.\n",
    "      ->After the initial letter or underscore, variable names can contain letters, numbers, or underscores."
   ]
  },
  {
   "cell_type": "code",
   "execution_count": 9,
   "id": "9a75e107",
   "metadata": {},
   "outputs": [
    {
     "ename": "SyntaxError",
     "evalue": "cannot assign to literal (4114409840.py, line 5)",
     "output_type": "error",
     "traceback": [
      "\u001b[1;36m  File \u001b[1;32m\"C:\\Users\\marve\\AppData\\Local\\Temp\\ipykernel_7308\\4114409840.py\"\u001b[1;36m, line \u001b[1;32m5\u001b[0m\n\u001b[1;33m    100=  'invalid'\u001b[0m\n\u001b[1;37m    ^\u001b[0m\n\u001b[1;31mSyntaxError\u001b[0m\u001b[1;31m:\u001b[0m cannot assign to literal\n"
     ]
    }
   ],
   "source": [
    "#Eg:\n",
    "egg = 'ducksegg'\n",
    "egg1 = 'chickenegg'\n",
    "_egg = 'valid'\n",
    "100=  'invalid'"
   ]
  },
  {
   "cell_type": "code",
   "execution_count": null,
   "id": "77c15c1f",
   "metadata": {},
   "outputs": [],
   "source": [
    "9. What three functions can be used to get the integer, floating-point number, or string version of a value?\n",
    "\n",
    "   Answer:\n",
    "    ->int() function:\n",
    "         This function is used to convert a value to an integer.\n",
    "\n",
    "    ->float() function:\n",
    "        This function is used to convert a value to a floating-point number.\n",
    "\n",
    "    ->str() function:\n",
    "        This function is used to convert a value to a string."
   ]
  },
  {
   "cell_type": "code",
   "execution_count": 13,
   "id": "d92669ef",
   "metadata": {},
   "outputs": [
    {
     "name": "stdout",
     "output_type": "stream",
     "text": [
      "<class 'int'>\n",
      "<class 'float'>\n",
      "<class 'str'>\n"
     ]
    }
   ],
   "source": [
    "value = 10.5\n",
    "integer_value = int(value)\n",
    "print(type(integer_value))\n",
    "\n",
    "value = 42\n",
    "float_value = float(value)\n",
    "print(type(float_value))\n",
    "\n",
    "value = 123\n",
    "string_value = str(value)\n",
    "print(type(string_value))"
   ]
  },
  {
   "cell_type": "code",
   "execution_count": null,
   "id": "3c865d98",
   "metadata": {},
   "outputs": [],
   "source": [
    "10. Why does this expression cause an error? How can you fix it?\n",
    "  'I have eaten' + 99 + 'burritos'\n",
    "    \n",
    "   Answer: \n",
    "     In Python, we cannot concantenate string and integer together."
   ]
  },
  {
   "cell_type": "code",
   "execution_count": 14,
   "id": "b14ebbf8",
   "metadata": {},
   "outputs": [
    {
     "ename": "TypeError",
     "evalue": "can only concatenate str (not \"int\") to str",
     "output_type": "error",
     "traceback": [
      "\u001b[1;31m---------------------------------------------------------------------------\u001b[0m",
      "\u001b[1;31mTypeError\u001b[0m                                 Traceback (most recent call last)",
      "\u001b[1;32m~\\AppData\\Local\\Temp\\ipykernel_7308\\2584018719.py\u001b[0m in \u001b[0;36m<module>\u001b[1;34m\u001b[0m\n\u001b[1;32m----> 1\u001b[1;33m \u001b[0ma\u001b[0m \u001b[1;33m=\u001b[0m \u001b[1;34m'I have eaten'\u001b[0m \u001b[1;33m+\u001b[0m \u001b[1;36m99\u001b[0m \u001b[1;33m+\u001b[0m \u001b[1;34m'burritos'\u001b[0m\u001b[1;33m\u001b[0m\u001b[1;33m\u001b[0m\u001b[0m\n\u001b[0m\u001b[0;32m      2\u001b[0m \u001b[0mprint\u001b[0m\u001b[1;33m(\u001b[0m\u001b[0ma\u001b[0m\u001b[1;33m)\u001b[0m\u001b[1;33m\u001b[0m\u001b[1;33m\u001b[0m\u001b[0m\n",
      "\u001b[1;31mTypeError\u001b[0m: can only concatenate str (not \"int\") to str"
     ]
    }
   ],
   "source": [
    "a = 'I have eaten' + 99 + 'burritos'\n",
    "print(a)"
   ]
  },
  {
   "cell_type": "code",
   "execution_count": 18,
   "id": "70a56b19",
   "metadata": {},
   "outputs": [
    {
     "name": "stdout",
     "output_type": "stream",
     "text": [
      "I have eaten 99 burritos\n"
     ]
    }
   ],
   "source": [
    "a = 'I have eaten' + \" \" + str(99) + \" \" + 'burritos'\n",
    "print(a)"
   ]
  },
  {
   "cell_type": "code",
   "execution_count": null,
   "id": "a5b17c52",
   "metadata": {},
   "outputs": [],
   "source": []
  }
 ],
 "metadata": {
  "kernelspec": {
   "display_name": "Python 3 (ipykernel)",
   "language": "python",
   "name": "python3"
  },
  "language_info": {
   "codemirror_mode": {
    "name": "ipython",
    "version": 3
   },
   "file_extension": ".py",
   "mimetype": "text/x-python",
   "name": "python",
   "nbconvert_exporter": "python",
   "pygments_lexer": "ipython3",
   "version": "3.9.13"
  }
 },
 "nbformat": 4,
 "nbformat_minor": 5
}
