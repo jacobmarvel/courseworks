{
 "cells": [
  {
   "cell_type": "code",
   "execution_count": null,
   "id": "fa0869e7",
   "metadata": {},
   "outputs": [],
   "source": [
    "                                                                    Marvel Samuel Jacob"
   ]
  },
  {
   "cell_type": "code",
   "execution_count": null,
   "id": "8bf59f72",
   "metadata": {},
   "outputs": [],
   "source": [
    "1.What are the two values of the Boolean data type? How do you write them?\n",
    "\n",
    "  Answer:\n",
    "    ->True:\n",
    "      Written as True.\n",
    "    ->False:\n",
    "      Written as False."
   ]
  },
  {
   "cell_type": "code",
   "execution_count": null,
   "id": "e1dbc106",
   "metadata": {},
   "outputs": [],
   "source": [
    "2. What are the three different types of Boolean operators?\n",
    " \n",
    "   Answer:\n",
    "     ->AND Operator(and):\n",
    "         The and operator returns True if both operands are true; otherwise, it returns False.\n",
    "\n",
    "     ->OR Operator(or):\n",
    "         The or operator returns True if at least one of the operands is true; it returns False if both operands are false.\n",
    "\n",
    "     ->NOT Operator(not):\n",
    "         The not operator negates the value of the operand. If the operand is True, not returns False, \n",
    "         and if the operand is False, not returns True.\n"
   ]
  },
  {
   "cell_type": "code",
   "execution_count": null,
   "id": "b15b90fd",
   "metadata": {},
   "outputs": [],
   "source": [
    "3. Make a list of each Boolean operator's truth tables (i.e. every possible combination of Boolean\n",
    "   values for the operator and what it evaluate).\n",
    "    \n",
    "   Answer:\n",
    "---------------------------------|------------------------------------|--------------------------------|\n",
    "          AND Operator           |            OR Operator             |          NOT Operator          |\n",
    "---------------------------------|------------------------------------|--------------------------------|\n",
    "operand 1 | operand 2 | Result   |   operand 1 | operand 2 | Result   | operand 1 |       Result       | \n",
    "----------|-----------|----------|-------------|-----------|----------|-----------|--------------------|\n",
    "  True    |   True    |  True    |     True    |   True    |   True   |   True    |        False       |\n",
    "----------|-----------|----------|-------------|-----------|----------|-----------|--------------------|\n",
    "  True    |   False   |  False   |     True    |   False   |   True   |   False   |        True        |\n",
    "----------|-----------|----------|-------------|-----------|----------|-----------|--------------------|\n",
    "  False   |   True    |  False   |     False   |   True    |   True   |                                |\n",
    "----------|-----------|----------|-------------|-----------|----------|--------------------------------|\n",
    "  False   |   False   |  False   |     False   |   False   |   False  |                                |\n",
    "----------|-----------|----------|-------------|-----------|----------|--------------------------------|"
   ]
  },
  {
   "cell_type": "code",
   "execution_count": null,
   "id": "8b541f52",
   "metadata": {},
   "outputs": [],
   "source": [
    "4. What are the values of the following expressions?\n",
    "    a) (5 > 4) and (3 == 5)\n",
    "    b) not (5 > 4)\n",
    "    c) (5 > 4) or (3 == 5)\n",
    "    d) not ((5 > 4) or (3 == 5))\n",
    "    e) (True and True) and (True == False)\n",
    "    f) (not False) or (not True)\n",
    "\n",
    "    Answer:\n",
    "        a) (5 > 4) and (3 == 5)\n",
    "            True and False = False\n",
    "        b) not (5 > 4)\n",
    "           not True = False\n",
    "        c) (5 > 4) or (3 == 5)\n",
    "            True or False = True\n",
    "        d) not ((5 > 4) or (3 == 5))\n",
    "            not( True or False)\n",
    "            not(True) = False\n",
    "        e) (True and True) and (True == False)\n",
    "              True and False = False\n",
    "        f) (not False) or (not True)\n",
    "             True or False = True"
   ]
  },
  {
   "cell_type": "code",
   "execution_count": null,
   "id": "e4e677bc",
   "metadata": {},
   "outputs": [],
   "source": [
    "5. What are the six comparison operators?\n",
    "\n",
    "   Answer:\n",
    "     1. Equal to (==):\n",
    "        Checks if the values of two operands are equal.\n",
    "        Eg: x == y\n",
    "     2. Not equal to (!=):\n",
    "        Checks if the values of two operands are not equal.\n",
    "        Eg: x != y\n",
    "     3. Greater than (>):\n",
    "        Checks if the value of the left operand is greater than the value of the right operand.\n",
    "        Eg: x > y\n",
    "     4. Less than (<):\n",
    "        Checks if the value of the left operand is less than the value of the right operand.\n",
    "        Eg: x < y\n",
    "     5. Greater than or equal to (>=):\n",
    "        Checks if the value of the left operand is greater than or equal to the value of the right operand.\n",
    "        Eg: x >= y\n",
    "     6. Less than or equal to (<=):\n",
    "        Checks if the value of the left operand is less than or equal to the value of the right operand.\n",
    "        Eg: x <= y"
   ]
  },
  {
   "cell_type": "code",
   "execution_count": null,
   "id": "c8b8fbd7",
   "metadata": {},
   "outputs": [],
   "source": [
    "6. How do you tell the difference between the equal to and assignment operators?\n",
    "   Describe a condition and when you would use one.\n",
    "    \n",
    "   Answer:\n",
    "    ->Equal To Operator (==):\n",
    "        Used in conditional statements to compare the equality of two values.\n",
    "        Returns True if the values on both sides are equal; otherwise, returns False.\n",
    "    ->Assignment Operator (=):\n",
    "        Used to assign a value to a variable."
   ]
  },
  {
   "cell_type": "code",
   "execution_count": 2,
   "id": "209d8f7c",
   "metadata": {},
   "outputs": [],
   "source": [
    "#equal to operator\n",
    "x = 5\n",
    "y = 10\n",
    "if x == y:\n",
    "    print(\"x is equal to y\")\n",
    "\n",
    "# Assignment operator\n",
    "a = 5\n"
   ]
  },
  {
   "cell_type": "code",
   "execution_count": null,
   "id": "72d69f89",
   "metadata": {},
   "outputs": [],
   "source": [
    "7. Identify the three blocks in this code:\n",
    "spam = 0\n",
    "if spam == 10:\n",
    "print('eggs')\n",
    "if spam > 5:\n",
    "print('bacon')\n",
    "else:\n",
    "print('ham')\n",
    "print('spam')\n",
    "print('spam')\n"
   ]
  },
  {
   "cell_type": "code",
   "execution_count": 3,
   "id": "ca72290b",
   "metadata": {},
   "outputs": [
    {
     "name": "stdout",
     "output_type": "stream",
     "text": [
      "ham\n",
      "spam\n",
      "spam\n"
     ]
    }
   ],
   "source": [
    "#Answer: \n",
    "spam = 0\n",
    "if spam ==10:\n",
    "    print(\"eggs\")  # block 1\n",
    "if spam > 5:\n",
    "    print(\"bacon\") # block 2\n",
    "else:\n",
    "    print(\"ham\")   # block 3\n",
    "print('spam')\n",
    "print('spam')"
   ]
  },
  {
   "cell_type": "code",
   "execution_count": null,
   "id": "0ee6832f",
   "metadata": {},
   "outputs": [],
   "source": [
    "8. Write code that prints Hello if 1 is stored in spam, prints Howdy if 2 is stored in spam,\n",
    "   and prints Greetings! if anything else is stored in spam."
   ]
  },
  {
   "cell_type": "code",
   "execution_count": 5,
   "id": "a38c4f49",
   "metadata": {},
   "outputs": [
    {
     "name": "stdout",
     "output_type": "stream",
     "text": [
      "Enter a number: 2\n",
      "Howdy\n"
     ]
    }
   ],
   "source": [
    "#Answer:\n",
    "spam = int(input(\"Enter a number: \"))\n",
    "if spam == 1:\n",
    "    print(\"Hello\")\n",
    "elif spam == 2:\n",
    "    print(\"Howdy\")\n",
    "else:\n",
    "    print(\"Greetings!\")"
   ]
  },
  {
   "cell_type": "code",
   "execution_count": null,
   "id": "2dc18533",
   "metadata": {},
   "outputs": [],
   "source": [
    "9.If your programme is stuck in an endless loop, what keys you’ll press?\n",
    "\n",
    " Answer:\n",
    "        If our program is stuck in an endless loop, we should press Ctrl + c to interrupt"
   ]
  },
  {
   "cell_type": "code",
   "execution_count": null,
   "id": "5100cb51",
   "metadata": {},
   "outputs": [],
   "source": [
    "10. How can you tell the difference between break and continue?\n",
    " \n",
    "    Answer:\n",
    "      break statement:\n",
    "          It is used to exit or terminate a loop prematurely when a certain condition is met.\n",
    "      continue statement:\n",
    "          It is used to skip the rest of the code inside a loop for the current iteration when a certain condition is met."
   ]
  },
  {
   "cell_type": "code",
   "execution_count": 6,
   "id": "accc2b4c",
   "metadata": {},
   "outputs": [
    {
     "name": "stdout",
     "output_type": "stream",
     "text": [
      "0\n",
      "1\n",
      "2\n"
     ]
    }
   ],
   "source": [
    "#Eg: for break\n",
    "for i in range(5):\n",
    "    if i == 3:\n",
    "        break\n",
    "    print(i)\n"
   ]
  },
  {
   "cell_type": "code",
   "execution_count": 7,
   "id": "65c7b075",
   "metadata": {},
   "outputs": [
    {
     "name": "stdout",
     "output_type": "stream",
     "text": [
      "0\n",
      "1\n",
      "2\n",
      "4\n"
     ]
    }
   ],
   "source": [
    "#Eg: for continue\n",
    "for i in range(5):\n",
    "    if i == 3:\n",
    "        continue\n",
    "    print(i)"
   ]
  },
  {
   "cell_type": "code",
   "execution_count": null,
   "id": "1156250b",
   "metadata": {},
   "outputs": [],
   "source": [
    "11. In a for loop, what is the difference between range(10), range(0, 10), and range(0, 10, 1)?\n",
    "\n",
    "    Answer:\n",
    "      -> The range(10) generates a sequence of numbers from 0 to 9 \n",
    "      -> The range(0,10) explicitly specifies both the start and end values, and form a sequence from 0 to 9.\n",
    "      -> The range(0,10,1)explicitly specifies the start, end, and step values."
   ]
  },
  {
   "cell_type": "code",
   "execution_count": null,
   "id": "36d3fab8",
   "metadata": {},
   "outputs": [],
   "source": [
    "12. Write a short program that prints the numbers 1 to 10 using a for loop. \n",
    "    Then write an equivalent program that prints the numbers 1 to 10 using a while loop."
   ]
  },
  {
   "cell_type": "code",
   "execution_count": 2,
   "id": "321cfcb1",
   "metadata": {},
   "outputs": [
    {
     "name": "stdout",
     "output_type": "stream",
     "text": [
      "1\n",
      "2\n",
      "3\n",
      "4\n",
      "5\n",
      "6\n",
      "7\n",
      "8\n",
      "9\n",
      "10\n"
     ]
    }
   ],
   "source": [
    "## Using a for loop to print numbers 1 to 10\n",
    "for i in range(1, 11):\n",
    "    print(i)"
   ]
  },
  {
   "cell_type": "code",
   "execution_count": 3,
   "id": "cd720152",
   "metadata": {},
   "outputs": [
    {
     "name": "stdout",
     "output_type": "stream",
     "text": [
      "1\n",
      "2\n",
      "3\n",
      "4\n",
      "5\n",
      "6\n",
      "7\n",
      "8\n",
      "9\n",
      "10\n"
     ]
    }
   ],
   "source": [
    "#using while loop\n",
    "i = 1\n",
    "while i <= 10:\n",
    "    print(i)\n",
    "    i+=1"
   ]
  },
  {
   "cell_type": "code",
   "execution_count": null,
   "id": "8933af06",
   "metadata": {},
   "outputs": [],
   "source": [
    "13. If you had a function named bacon() inside a module named spam, how would you call it after importing spam?"
   ]
  },
  {
   "cell_type": "code",
   "execution_count": null,
   "id": "1bc74573",
   "metadata": {},
   "outputs": [],
   "source": [
    "import spam\n",
    "\n",
    "spam.bacon()"
   ]
  },
  {
   "cell_type": "code",
   "execution_count": null,
   "id": "6f729933",
   "metadata": {},
   "outputs": [],
   "source": []
  }
 ],
 "metadata": {
  "kernelspec": {
   "display_name": "Python 3 (ipykernel)",
   "language": "python",
   "name": "python3"
  },
  "language_info": {
   "codemirror_mode": {
    "name": "ipython",
    "version": 3
   },
   "file_extension": ".py",
   "mimetype": "text/x-python",
   "name": "python",
   "nbconvert_exporter": "python",
   "pygments_lexer": "ipython3",
   "version": "3.9.13"
  }
 },
 "nbformat": 4,
 "nbformat_minor": 5
}
