{
 "cells": [
  {
   "cell_type": "code",
   "execution_count": null,
   "id": "b65d6cd2",
   "metadata": {},
   "outputs": [],
   "source": [
    "                                                                    Marvel Samuel Jacob"
   ]
  },
  {
   "cell_type": "code",
   "execution_count": null,
   "id": "4254fd38",
   "metadata": {},
   "outputs": [],
   "source": [
    "1. What are keywords in python? Using the keyword library, print all the python keywords.\n",
    "Answer:\n",
    "    Keywords in Python are reserved words that have a specific meaning and cannot be used as identifiers."
   ]
  },
  {
   "cell_type": "code",
   "execution_count": 9,
   "id": "ad372132",
   "metadata": {},
   "outputs": [
    {
     "name": "stdout",
     "output_type": "stream",
     "text": [
      "Python Keywords: ['False', 'None', 'True', '__peg_parser__', 'and', 'as', 'assert', 'async', 'await', 'break', 'class', 'continue', 'def', 'del', 'elif', 'else', 'except', 'finally', 'for', 'from', 'global', 'if', 'import', 'in', 'is', 'lambda', 'nonlocal', 'not', 'or', 'pass', 'raise', 'return', 'try', 'while', 'with', 'yield']\n"
     ]
    }
   ],
   "source": [
    "import keyword\n",
    "\n",
    "all_keywords = keyword.kwlist\n",
    "print(\"Python Keywords:\", all_keywords)\n",
    "\n"
   ]
  },
  {
   "cell_type": "code",
   "execution_count": null,
   "id": "003ce2b5",
   "metadata": {},
   "outputs": [],
   "source": [
    "2. What are the rules to create variables in python?\n",
    "Answer:\n",
    "    Variables in Python must start with a letter or underscore, followed by letters, numbers, or underscores.\n",
    "    They are case-sensitive, should avoid reserved words."
   ]
  },
  {
   "cell_type": "code",
   "execution_count": null,
   "id": "2a82781c",
   "metadata": {},
   "outputs": [],
   "source": [
    "3. What are the standards and conventions followed for the nomenclature of variables in\n",
    "   python to improve code readability and maintainability?\n",
    "Answer:\n",
    "    When creating variables with two words, use underscores for separation. \n",
    "    For summing two numbers, name the variable \"total\" instead of generic names like a, b, or c and \n",
    "    choose meaningful and descriptive names that convey the purpose of the variable."
   ]
  },
  {
   "cell_type": "code",
   "execution_count": null,
   "id": "9590cf2d",
   "metadata": {},
   "outputs": [],
   "source": [
    "user_name = \"John\"\n",
    "total_count = 10\n",
    "MAX_VALUE = 100"
   ]
  },
  {
   "cell_type": "code",
   "execution_count": null,
   "id": "c99a8b99",
   "metadata": {},
   "outputs": [],
   "source": [
    "4. What will happen if a keyword is used as a variable name?"
   ]
  },
  {
   "cell_type": "code",
   "execution_count": 2,
   "id": "cbf9f345",
   "metadata": {},
   "outputs": [
    {
     "ename": "SyntaxError",
     "evalue": "invalid syntax (2814986370.py, line 1)",
     "output_type": "error",
     "traceback": [
      "\u001b[1;36m  File \u001b[1;32m\"C:\\Users\\marve\\AppData\\Local\\Temp\\ipykernel_18344\\2814986370.py\"\u001b[1;36m, line \u001b[1;32m1\u001b[0m\n\u001b[1;33m    break = \"Lunch_break\"\u001b[0m\n\u001b[1;37m          ^\u001b[0m\n\u001b[1;31mSyntaxError\u001b[0m\u001b[1;31m:\u001b[0m invalid syntax\n"
     ]
    }
   ],
   "source": [
    "break = \"Lunch_break\"\n",
    "print(break)"
   ]
  },
  {
   "cell_type": "code",
   "execution_count": null,
   "id": "b8fbf591",
   "metadata": {},
   "outputs": [],
   "source": [
    "5. For what purpose def keyword is used?\n",
    "Answer:\n",
    "    To define a new function"
   ]
  },
  {
   "cell_type": "code",
   "execution_count": 3,
   "id": "bae581e2",
   "metadata": {},
   "outputs": [
    {
     "data": {
      "text/plain": [
       "5"
      ]
     },
     "execution_count": 3,
     "metadata": {},
     "output_type": "execute_result"
    }
   ],
   "source": [
    "def sum(a,b):\n",
    "    return(a+b)\n",
    "sum(2,3)\n"
   ]
  },
  {
   "cell_type": "code",
   "execution_count": null,
   "id": "0242a7ad",
   "metadata": {},
   "outputs": [],
   "source": [
    "6. What is the operation of this special character ‘\\’?"
   ]
  },
  {
   "cell_type": "code",
   "execution_count": 5,
   "id": "2c4709e2",
   "metadata": {},
   "outputs": [
    {
     "name": "stdout",
     "output_type": "stream",
     "text": [
      "My name is \"Marvel Samuel Jacob\" \n"
     ]
    }
   ],
   "source": [
    "# It is an escaping letter.\n",
    "# suppose if we want to print a quoted string in a line of string by using this we can able to print\n",
    "name = \"My name is \\\"Marvel Samuel Jacob\\\" \"\n",
    "print(name)"
   ]
  },
  {
   "cell_type": "code",
   "execution_count": null,
   "id": "e4624767",
   "metadata": {},
   "outputs": [],
   "source": [
    "7. Give an example of the following conditions:\n",
    "(i) Homogeneous list\n",
    "(ii) Heterogeneous set\n",
    "(iii) Homogeneous tuple"
   ]
  },
  {
   "cell_type": "code",
   "execution_count": null,
   "id": "9a535f84",
   "metadata": {},
   "outputs": [],
   "source": [
    "#i) Homogeneous list\n",
    "list1 = [1,2,3,4]\n",
    "#ii) Hetrogeneous set\n",
    "set2 = {\"a\",3,3.56,\"Apple\"}\n",
    "#iii) Homogeneous tuple\n",
    "tuple3 = {'apple','mango','orange'}"
   ]
  },
  {
   "cell_type": "code",
   "execution_count": null,
   "id": "ac519653",
   "metadata": {},
   "outputs": [],
   "source": [
    "8. Explain the mutable and immutable data types with proper explanation & examples.\n",
    "Answer:\n",
    "->Mutable data types are those whose values can be changed or modified after the object is created.\n",
    "    Eg: Lists,Dictionaries,Sets etc - -\n",
    "->Immutable data types are those whose values cannot be changed or modified after the object is created.\n",
    "    Eg: Tuples, Strings,integers etc - - "
   ]
  },
  {
   "cell_type": "code",
   "execution_count": 6,
   "id": "6d505fee",
   "metadata": {},
   "outputs": [
    {
     "data": {
      "text/plain": [
       "{'key': 'new_value'}"
      ]
     },
     "execution_count": 6,
     "metadata": {},
     "output_type": "execute_result"
    }
   ],
   "source": [
    "#mutable\n",
    "my_dict = {'key': 'value'}\n",
    "my_dict['key'] = 'new_value'  # Modifying the existing dictionary\n",
    "my_dict"
   ]
  },
  {
   "cell_type": "code",
   "execution_count": null,
   "id": "fcf87e8e",
   "metadata": {},
   "outputs": [],
   "source": [
    "#immutable\n",
    "my_tuple = (1, 2, 3)\n",
    "# Attempting to modify a tuple would result in an error\n"
   ]
  },
  {
   "cell_type": "code",
   "execution_count": null,
   "id": "c3a0f491",
   "metadata": {},
   "outputs": [],
   "source": [
    "9. Write a code to create the given structure using only for loop.\n",
    "    *\n",
    "   ***\n",
    "  *****\n",
    " *******\n",
    "*********\n"
   ]
  },
  {
   "cell_type": "code",
   "execution_count": 7,
   "id": "54be64c2",
   "metadata": {},
   "outputs": [
    {
     "name": "stdout",
     "output_type": "stream",
     "text": [
      "    *\n",
      "   ***\n",
      "  *****\n",
      " *******\n",
      "*********\n"
     ]
    }
   ],
   "source": [
    "rows = 5\n",
    "\n",
    "for i in range(rows):\n",
    "    for j in range(rows - i - 1):\n",
    "        print(\" \", end=\"\")\n",
    "    for k in range(2 * i + 1):\n",
    "        print(\"*\", end=\"\")\n",
    "    print()"
   ]
  },
  {
   "cell_type": "code",
   "execution_count": null,
   "id": "b0493088",
   "metadata": {},
   "outputs": [],
   "source": [
    "10. Write a code to create the given structure using while loop.\n",
    "|||||||||\n",
    " |||||||\n",
    "  |||||\n",
    "   |||\n",
    "    |"
   ]
  },
  {
   "cell_type": "code",
   "execution_count": 8,
   "id": "9a1416f4",
   "metadata": {},
   "outputs": [
    {
     "name": "stdout",
     "output_type": "stream",
     "text": [
      "|||||||||\n",
      " |||||||\n",
      "  |||||\n",
      "   |||\n",
      "    |\n"
     ]
    }
   ],
   "source": [
    "rows = 5\n",
    "count = 0\n",
    "spaces = 0\n",
    "\n",
    "while count < rows:\n",
    "    spaces = count\n",
    "\n",
    "    while spaces > 0:\n",
    "        print(\" \", end=\"\")\n",
    "        spaces -= 1\n",
    "\n",
    "    symbols = (2 * (rows - count) - 1)\n",
    "\n",
    "    while symbols > 0:\n",
    "        print(\"|\", end=\"\")\n",
    "        symbols -= 1\n",
    "\n",
    "    print()\n",
    "    count += 1"
   ]
  },
  {
   "cell_type": "code",
   "execution_count": null,
   "id": "cc740f7a",
   "metadata": {},
   "outputs": [],
   "source": []
  }
 ],
 "metadata": {
  "kernelspec": {
   "display_name": "Python 3 (ipykernel)",
   "language": "python",
   "name": "python3"
  },
  "language_info": {
   "codemirror_mode": {
    "name": "ipython",
    "version": 3
   },
   "file_extension": ".py",
   "mimetype": "text/x-python",
   "name": "python",
   "nbconvert_exporter": "python",
   "pygments_lexer": "ipython3",
   "version": "3.9.13"
  }
 },
 "nbformat": 4,
 "nbformat_minor": 5
}
