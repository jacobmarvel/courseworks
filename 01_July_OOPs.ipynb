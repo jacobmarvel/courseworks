{
 "cells": [
  {
   "cell_type": "code",
   "execution_count": null,
   "id": "ff39fc28",
   "metadata": {},
   "outputs": [],
   "source": [
    "                                                                              Marvel Samuel Jacob"
   ]
  },
  {
   "cell_type": "code",
   "execution_count": null,
   "id": "1ab91c21",
   "metadata": {},
   "outputs": [],
   "source": [
    "1. What is the primary goal of Object-Oriented Programming (OOP)?\n",
    "Answer:\n",
    "    The primary goal of Object-Oriented Programming (OOP) is to facilitate the design, organization, and \n",
    "    maintenance of complex software systems by representing real-world entities as objects, which encapsulate data \n",
    "    and behavior. OOP promotes concepts such as encapsulation, inheritance, and polymorphism to enhance code modularity, \n",
    "    reusability, and scalability."
   ]
  },
  {
   "cell_type": "code",
   "execution_count": null,
   "id": "09681a48",
   "metadata": {},
   "outputs": [],
   "source": [
    "2. What is an object in Python?\n",
    "Answer:\n",
    "     An object is an instance of a class. It is a self-contained unit that encapsulates data and the functions \n",
    "     that operate on that data. Objects in Python have attributes (variables) and methods (functions) \n",
    "     associated with them.\n",
    "    \n",
    "    Eg:\n",
    "        class Bank:\n",
    "            pass\n",
    "        \n",
    "        b1 = Bank()"
   ]
  },
  {
   "cell_type": "code",
   "execution_count": null,
   "id": "04cc0609",
   "metadata": {},
   "outputs": [],
   "source": [
    "3. What is a class in Python?\n",
    "Answer:\n",
    "     A class is a blueprint for creating objects. It defines attributes and methods that objects of the class will have. "
   ]
  },
  {
   "cell_type": "code",
   "execution_count": null,
   "id": "0f59436c",
   "metadata": {},
   "outputs": [],
   "source": [
    "4. What are attributes and methods in a class?\n",
    "Answer:\n",
    "   ->Attributes in a class are variables that store data. They represent the characteristics or properties of an object. \n",
    "   ->Methods are functions defined within a class that perform operations on the object's data or interact with it. "
   ]
  },
  {
   "cell_type": "code",
   "execution_count": null,
   "id": "474155f4",
   "metadata": {},
   "outputs": [],
   "source": [
    "5. What is the difference between class variables and instance variables in Python?\n",
    "Answer:\n",
    "    ->Class variables in Python are shared by all instances of a class. They are defined outside any method \n",
    "    in the class and are the same for every object created from that class.\n",
    "    ->Instance variables are unique to each instance of a class. They are defined inside methods and are specific \n",
    "    to the object they belong to. Each instance can have different values for these variables."
   ]
  },
  {
   "cell_type": "code",
   "execution_count": null,
   "id": "07ca2c8f",
   "metadata": {},
   "outputs": [],
   "source": [
    "6. What is the purpose of the self parameter in Python class methods?\n",
    "Answer:\n",
    "    The self parameter in Python class methods refers to the instance of the class and is used to access\n",
    "    and modify instance variables and methods.When you call a method on an object, the instance itself is passed\n",
    "    as the first parameter to the method.\n",
    "    The purpose of self is to access and manipulate the instance's attributes and other methods within the class."
   ]
  },
  {
   "cell_type": "code",
   "execution_count": null,
   "id": "a91e1370",
   "metadata": {},
   "outputs": [],
   "source": [
    "7. For a library management system, you have to design the \"Book\" class with OOP\n",
    "principles in mind. The “Book” class will have following attributes:\n",
    "a. title: Represents the title of the book.\n",
    "b. author: Represents the author(s) of the book.\n",
    "c. isbn: Represents the ISBN (International Standard Book Number) of the book.\n",
    "d. publication_year: Represents the year of publication of the book.\n",
    "e. available_copies: Represents the number of copies available for checkout.\n",
    "The class will also include the following methods:\n",
    "a. check_out(self): Decrements the available copies by one if there are copies\n",
    "available for checkout.\n",
    "b. return_book(self): Increments the available copies by one when a book is\n",
    "returned.\n",
    "c. display_book_info(self): Displays the information about the book, including its\n",
    "attributes and the number of available copies."
   ]
  },
  {
   "cell_type": "code",
   "execution_count": 3,
   "id": "ee38f913",
   "metadata": {},
   "outputs": [],
   "source": [
    "class Book:\n",
    "    def __init__(self,title,author,isbn,publication_year,available_copies):\n",
    "        self.title=title\n",
    "        self.author=author\n",
    "        self.isbn=isbn\n",
    "        self.publication_year=publication_year\n",
    "        self.available_copies=available_copies\n",
    "    \n",
    "    def check_out(self):\n",
    "         if self.available_copies > 0:\n",
    "            self.available_copies -= 1\n",
    "            print(\"Book borrowed successfully.\")\n",
    "         else:\n",
    "            print(\"No copies of the book are currently available.\")\n",
    "        \n",
    "    def return_book(self):\n",
    "        self.available_copies += 1\n",
    "        print(\"Book returned successfully.\")\n",
    "        \n",
    "    def display_book_info(self):\n",
    "        print(\"Book Information:\")\n",
    "        print(f\"Title: {self.title}\")\n",
    "        print(f\"Author(s): {self.author}\")\n",
    "        print(f\"ISBN: {self.isbn}\")\n",
    "        print(f\"Publication Year: {self.publication_year}\")\n",
    "        print(f\"Available Copies: {self.available_copies}\")\n",
    "\n",
    "        "
   ]
  },
  {
   "cell_type": "code",
   "execution_count": 7,
   "id": "dac4a91d",
   "metadata": {},
   "outputs": [
    {
     "name": "stdout",
     "output_type": "stream",
     "text": [
      "Book Information:\n",
      "Title: Python\n",
      "Author(s): Albert\n",
      "ISBN: 978-0-13-467094-2\n",
      "Publication Year: 2022\n",
      "Available Copies: 5\n",
      "Book borrowed successfully.\n",
      "Book Information:\n",
      "Title: Python\n",
      "Author(s): Albert\n",
      "ISBN: 978-0-13-467094-2\n",
      "Publication Year: 2022\n",
      "Available Copies: 4\n",
      "Book returned successfully.\n",
      "Book Information:\n",
      "Title: Python\n",
      "Author(s): Albert\n",
      "ISBN: 978-0-13-467094-2\n",
      "Publication Year: 2022\n",
      "Available Copies: 5\n"
     ]
    }
   ],
   "source": [
    "book1 = Book(\"Python\", \"Albert\", \"978-0-13-467094-2\", 2022, 5)\n",
    "book1.display_book_info()\n",
    "\n",
    "book1.check_out()\n",
    "book1.display_book_info()\n",
    "\n",
    "book1.return_book()\n",
    "book1.display_book_info()"
   ]
  },
  {
   "cell_type": "code",
   "execution_count": null,
   "id": "56e7bc3a",
   "metadata": {},
   "outputs": [],
   "source": [
    "8. For a ticket booking system, you have to design the \"Ticket\" class with OOP\n",
    "principles in mind. The “Ticket” class should have the following attributes:\n",
    "a. ticket_id: Represents the unique identifier for the ticket.\n",
    "b. event_name: Represents the name of the event.\n",
    "c. event_date: Represents the date of the event.\n",
    "d. venue: Represents the venue of the event.\n",
    "e. seat_number: Represents the seat number associated with the ticket.\n",
    "f. price: Represents the price of the ticket.\n",
    "g. is_reserved: Represents the reservation status of the ticket.\n",
    "The class also includes the following methods:\n",
    "a. reserve_ticket(self): Marks the ticket as reserved if it is not already reserved.\n",
    "b. cancel_reservation(self): Cancels the reservation of the ticket if it is already\n",
    "reserved.\n",
    "c. display_ticket_info(self): Displays the information about the ticket, including its\n",
    "attributes and reservation status."
   ]
  },
  {
   "cell_type": "code",
   "execution_count": 5,
   "id": "1fa8378c",
   "metadata": {},
   "outputs": [
    {
     "name": "stdout",
     "output_type": "stream",
     "text": [
      "Ticket ID: 1\n",
      "Event: Concert\n",
      "Event Date: 2023-01-15\n",
      "Venue: City Hall\n",
      "Seat Number: A23\n",
      "Price: $50.0\n",
      "Reservation Status: Not Reserved\n",
      "Ticket 1 reserved successfully.\n",
      "Ticket ID: 1\n",
      "Event: Concert\n",
      "Event Date: 2023-01-15\n",
      "Venue: City Hall\n",
      "Seat Number: A23\n",
      "Price: $50.0\n",
      "Reservation Status: Reserved\n",
      "Reservation for Ticket 1 canceled.\n",
      "Ticket ID: 1\n",
      "Event: Concert\n",
      "Event Date: 2023-01-15\n",
      "Venue: City Hall\n",
      "Seat Number: A23\n",
      "Price: $50.0\n",
      "Reservation Status: Not Reserved\n"
     ]
    }
   ],
   "source": [
    "class Ticket:\n",
    "    def __init__(self, ticket_id, event_name, event_date, venue, seat_number, price, is_reserved=False):\n",
    "        self.ticket_id = ticket_id\n",
    "        self.event_name = event_name\n",
    "        self.event_date = event_date\n",
    "        self.venue = venue\n",
    "        self.seat_number = seat_number\n",
    "        self.price = price\n",
    "        self.is_reserved = is_reserved\n",
    "\n",
    "    def reserve_ticket(self):\n",
    "        if not self.is_reserved:\n",
    "            self.is_reserved = True\n",
    "            print(f\"Ticket {self.ticket_id} reserved successfully.\")\n",
    "        else:\n",
    "            print(\"Ticket is already reserved.\")\n",
    "\n",
    "    def cancel_reservation(self):\n",
    "        if self.is_reserved:\n",
    "            self.is_reserved = False\n",
    "            print(f\"Reservation for Ticket {self.ticket_id} canceled.\")\n",
    "        else:\n",
    "            print(\"Ticket is not reserved.\")\n",
    "\n",
    "    def display_ticket_info(self):\n",
    "        print(f\"Ticket ID: {self.ticket_id}\")\n",
    "        print(f\"Event: {self.event_name}\")\n",
    "        print(f\"Event Date: {self.event_date}\")\n",
    "        print(f\"Venue: {self.venue}\")\n",
    "        print(f\"Seat Number: {self.seat_number}\")\n",
    "        print(f\"Price: ${self.price}\")\n",
    "        print(f\"Reservation Status: {'Reserved' if self.is_reserved else 'Not Reserved'}\")\n",
    "\n",
    "\n",
    "ticket1 = Ticket(1, \"Concert\", \"2023-01-15\", \"City Hall\", \"A23\", 50.0)\n",
    "ticket1.display_ticket_info()\n",
    "\n",
    "ticket1.reserve_ticket()\n",
    "ticket1.display_ticket_info()\n",
    "\n",
    "ticket1.cancel_reservation()\n",
    "ticket1.display_ticket_info()\n"
   ]
  },
  {
   "cell_type": "code",
   "execution_count": null,
   "id": "30e10fa0",
   "metadata": {},
   "outputs": [],
   "source": [
    "9. You are creating a shopping cart for an e-commerce website. Using OOP to model\n",
    "the \"ShoppingCart\" functionality the class should contain following attributes and\n",
    "methods:\n",
    "a. items: Represents the list of items in the shopping cart.\n",
    "The class also includes the following methods:\n",
    "\n",
    "a. add_item(self, item): Adds an item to the shopping cart by appending it to the\n",
    "list of items.\n",
    "b. remove_item(self, item): Removes an item from the shopping cart if it exists in\n",
    "the list.\n",
    "c. view_cart(self): Displays the items currently present in the shopping cart.\n",
    "d. clear_cart(self): Clears all items from the shopping cart by reassigning an\n",
    "empty list to the items attribute."
   ]
  },
  {
   "cell_type": "code",
   "execution_count": 6,
   "id": "5a368562",
   "metadata": {},
   "outputs": [
    {
     "name": "stdout",
     "output_type": "stream",
     "text": [
      "Item 1 added to the shopping cart.\n",
      "Item 2 added to the shopping cart.\n",
      "Items in the shopping cart:\n",
      "Item 1\n",
      "Item 2\n",
      "Item 1 removed from the shopping cart.\n",
      "Items in the shopping cart:\n",
      "Item 2\n",
      "The shopping cart has been cleared.\n",
      "The shopping cart is empty.\n"
     ]
    }
   ],
   "source": [
    "class ShoppingCart:\n",
    "    def __init__(self):\n",
    "        self.items = []\n",
    "\n",
    "    def add_item(self, item):\n",
    "        self.items.append(item)\n",
    "        print(f\"{item} added to the shopping cart.\")\n",
    "\n",
    "    def remove_item(self, item):\n",
    "        if item in self.items:\n",
    "            self.items.remove(item)\n",
    "            print(f\"{item} removed from the shopping cart.\")\n",
    "        else:\n",
    "            print(f\"{item} is not in the shopping cart.\")\n",
    "\n",
    "    def view_cart(self):\n",
    "        if self.items:\n",
    "            print(\"Items in the shopping cart:\")\n",
    "            for item in self.items:\n",
    "                print(item)\n",
    "        else:\n",
    "            print(\"The shopping cart is empty.\")\n",
    "\n",
    "    def clear_cart(self):\n",
    "        self.items = []\n",
    "        print(\"The shopping cart has been cleared.\")\n",
    "\n",
    "cart = ShoppingCart()\n",
    "\n",
    "cart.add_item(\"Item 1\")\n",
    "cart.add_item(\"Item 2\")\n",
    "cart.view_cart()\n",
    "\n",
    "cart.remove_item(\"Item 1\")\n",
    "cart.view_cart()\n",
    "\n",
    "cart.clear_cart()\n",
    "cart.view_cart()"
   ]
  },
  {
   "cell_type": "code",
   "execution_count": null,
   "id": "6b903fb5",
   "metadata": {},
   "outputs": [],
   "source": [
    "10. Imagine a school management system. You have to design the \"Student\" class using\n",
    "OOP concepts.The “Student” class has the following attributes:\n",
    "a. name: Represents the name of the student.\n",
    "b. age: Represents the age of the student.\n",
    "c. grade: Represents the grade or class of the student.\n",
    "d. student_id: Represents the unique identifier for the student.\n",
    "e. attendance: Represents the attendance record of the student.\n",
    "The class should also include the following methods:\n",
    "a. update_attendance(self, date, status): Updates the attendance record of the\n",
    "student for a given date with the provided status (e.g., present or absent).\n",
    "b. get_attendance(self): Returns the attendance record of the student.\n",
    "c. get_average_attendance(self): Calculates and returns the average\n",
    "attendance percentage of the student based on their attendance record."
   ]
  },
  {
   "cell_type": "code",
   "execution_count": 8,
   "id": "1c050b0e",
   "metadata": {},
   "outputs": [
    {
     "name": "stdout",
     "output_type": "stream",
     "text": [
      "{'2023-07-10': 'Present', '2023-07-11': 'Absent', '2023-07-12': 'Present'}\n",
      "Average Attendance: 66.66666666666666%\n"
     ]
    }
   ],
   "source": [
    "class Student:\n",
    "    def __init__(self, name, age, grade, student_id):\n",
    "        self.name = name\n",
    "        self.age = age\n",
    "        self.grade = grade\n",
    "        self.student_id = student_id\n",
    "        self.attendance = {}\n",
    "\n",
    "    def update_attendance(self, date, status):\n",
    "        self.attendance[date] = status\n",
    "\n",
    "    def get_attendance(self):\n",
    "        return self.attendance\n",
    "\n",
    "    def get_average_attendance(self):\n",
    "        total_days = len(self.attendance)\n",
    "        present_days = list(self.attendance.values()).count(\"Present\")\n",
    "        average_attendance = (present_days / total_days) * 100 if total_days > 0 else 0\n",
    "        return average_attendance\n",
    "\n",
    "student = Student(\"Marvel\", 15, 9, \"21MAI0045\")\n",
    "\n",
    "student.update_attendance(\"2023-07-10\", \"Present\")\n",
    "student.update_attendance(\"2023-07-11\", \"Absent\")\n",
    "student.update_attendance(\"2023-07-12\", \"Present\")\n",
    "\n",
    "print(student.get_attendance())\n",
    "average_attendance = student.get_average_attendance()\n",
    "print(f\"Average Attendance: {average_attendance}%\")"
   ]
  },
  {
   "cell_type": "code",
   "execution_count": null,
   "id": "b15f784f",
   "metadata": {},
   "outputs": [],
   "source": []
  }
 ],
 "metadata": {
  "kernelspec": {
   "display_name": "Python 3 (ipykernel)",
   "language": "python",
   "name": "python3"
  },
  "language_info": {
   "codemirror_mode": {
    "name": "ipython",
    "version": 3
   },
   "file_extension": ".py",
   "mimetype": "text/x-python",
   "name": "python",
   "nbconvert_exporter": "python",
   "pygments_lexer": "ipython3",
   "version": "3.9.13"
  }
 },
 "nbformat": 4,
 "nbformat_minor": 5
}
