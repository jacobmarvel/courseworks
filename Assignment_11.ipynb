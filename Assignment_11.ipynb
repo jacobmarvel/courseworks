{
 "cells": [
  {
   "cell_type": "code",
   "execution_count": null,
   "id": "001f428c",
   "metadata": {},
   "outputs": [],
   "source": [
    "                                                                    Marvel Samuel Jacob"
   ]
  },
  {
   "cell_type": "code",
   "execution_count": null,
   "id": "38120cb5",
   "metadata": {},
   "outputs": [],
   "source": [
    "1. What is the role of the 'else' block in a try-except statement? Provide an example\n",
    "scenario where it would be useful.\n",
    "Answer:\n",
    "    The 'else' block in a try-except statement is optional and provides a way to specify a block of code that \n",
    "    should be executed if no exceptions are raised within the corresponding try block.\n",
    "    The code inside the 'else' block will run only if the try block executes successfully without any exceptions."
   ]
  },
  {
   "cell_type": "code",
   "execution_count": 1,
   "id": "0d06494d",
   "metadata": {},
   "outputs": [
    {
     "name": "stdout",
     "output_type": "stream",
     "text": [
      "The division result is: 2.0\n"
     ]
    }
   ],
   "source": [
    "def divide_numbers(num1, num2):\n",
    "    try:\n",
    "        result = num1 / num2\n",
    "    except ZeroDivisionError:\n",
    "        print(\"Error: Cannot divide by zero.\")\n",
    "    else:\n",
    "        print(\"The division result is:\", result)\n",
    "divide_numbers(10,5)"
   ]
  },
  {
   "cell_type": "code",
   "execution_count": null,
   "id": "dcd7726c",
   "metadata": {},
   "outputs": [],
   "source": [
    "2. Can a try-except block be nested inside another try-except block? Explain with an\n",
    "example.\n",
    "Answer:\n",
    "    Yes, it is possible to have nested try-except blocks in Python. \n",
    "    You can have one or more try-except blocks within another try or except block. "
   ]
  },
  {
   "cell_type": "code",
   "execution_count": 2,
   "id": "17118ba6",
   "metadata": {},
   "outputs": [
    {
     "name": "stdout",
     "output_type": "stream",
     "text": [
      "Enter a number: 8\n",
      "Enter another number: 0\n",
      "Error: Cannot divide by zero in the inner try-except block.\n"
     ]
    }
   ],
   "source": [
    "try:\n",
    "    # Outer try block\n",
    "    num1 = int(input(\"Enter a number: \"))\n",
    "    num2 = int(input(\"Enter another number: \"))\n",
    "\n",
    "    try:\n",
    "        # Inner try block\n",
    "        result = num1 / num2\n",
    "        print(\"The result is:\", result)\n",
    "    except ZeroDivisionError:\n",
    "        print(\"Error: Cannot divide by zero in the inner try-except block.\")\n",
    "\n",
    "except ValueError:\n",
    "    print(\"Error: Invalid input. Please enter a valid number in the outer try-except block.\")"
   ]
  },
  {
   "cell_type": "code",
   "execution_count": null,
   "id": "976fc9f0",
   "metadata": {},
   "outputs": [],
   "source": [
    "3. How can you create a custom exception class in Python? Provide an example that\n",
    "demonstrates its usage.\n",
    "Answer:\n",
    "    In Python, you can create a custom exception class by defining a new class that inherits from the built-in Exception \n",
    "    class or any of its subclasses. "
   ]
  },
  {
   "cell_type": "code",
   "execution_count": 3,
   "id": "64d13cdc",
   "metadata": {},
   "outputs": [
    {
     "name": "stdout",
     "output_type": "stream",
     "text": [
      "Enter a number: a\n",
      "Error: Invalid input: Input must be numeric.\n"
     ]
    }
   ],
   "source": [
    "class CustomException(Exception):\n",
    "    pass\n",
    "\n",
    "def validate_input(value):\n",
    "    if not value.isnumeric():\n",
    "        raise CustomException(\"Invalid input: Input must be numeric.\")\n",
    "\n",
    "try:\n",
    "    user_input = input(\"Enter a number: \")\n",
    "    validate_input(user_input)\n",
    "    print(\"Valid input:\", user_input)\n",
    "except CustomException as e:\n",
    "    print(\"Error:\", str(e))"
   ]
  },
  {
   "cell_type": "code",
   "execution_count": null,
   "id": "7cc3c59e",
   "metadata": {},
   "outputs": [],
   "source": [
    "4. What are some common exceptions that are built-in to Python?\n",
    "Answer:\n",
    "    ->SyntaxError: Raised when there is a syntax error in the code.\n",
    "    ->IndentationError: Raised when there is an issue with the indentation of code.\n",
    "    ->NameError: Raised when a local or global name is not found.\n",
    "    ->TypeError: Raised when an operation or function is applied to an object of an inappropriate type.\n",
    "    ->ValueError: Raised when a function receives an argument of the correct type but with an invalid value.\n",
    "    ->KeyError: Raised when a dictionary key is not found.\n",
    "    ->IndexError: Raised when an index is out of range in a sequence.\n",
    "    ->FileNotFoundError: Raised when a file or directory is not found.\n",
    "    ->ZeroDivisionError: Raised when division or modulo operation is performed with zero as the divisor.\"\"\""
   ]
  },
  {
   "cell_type": "code",
   "execution_count": null,
   "id": "a72e5179",
   "metadata": {},
   "outputs": [],
   "source": [
    "5. What is logging in Python, and why is it important in software development?\n",
    "Answer:\n",
    "    Logging in Python is a mechanism that allows you to record and store messages, warnings, errors, and\n",
    "    other relevant information during the execution of a program. \n",
    "    The logging module in Python provides a flexible and configurable framework for generating log messages."
   ]
  },
  {
   "cell_type": "code",
   "execution_count": null,
   "id": "69d3b8f4",
   "metadata": {},
   "outputs": [],
   "source": [
    "6. Explain the purpose of log levels in Python logging and provide examples of when\n",
    "each log level would be appropriate."
   ]
  },
  {
   "cell_type": "code",
   "execution_count": 4,
   "id": "bae0bf5f",
   "metadata": {},
   "outputs": [
    {
     "name": "stderr",
     "output_type": "stream",
     "text": [
      "DEBUG:root:Variable x = 10\n",
      "INFO:root:Server started on port 8080.\n",
      "WARNING:root:Disk space is running low.\n",
      "ERROR:root:Failed to connect to the database.\n",
      "CRITICAL:root:System crashed due to memory overload.\n"
     ]
    }
   ],
   "source": [
    "\"\"\"In Python logging, log levels are used to categorize and prioritize log messages based on their severity or importance. \n",
    "   The logging module provides several predefined log levels, each serving a specific purpose\"\"\"\n",
    "\n",
    "\"\"\"DEBUG: The lowest log level used for detailed debugging information. \n",
    "   It is typically used during development and debugging stages when you need extensive information about the program's \n",
    "   internal state or specific variables.\"\"\"\n",
    "import logging\n",
    "x=10\n",
    "logging.basicConfig(level=logging.DEBUG)\n",
    "logging.debug(\"Variable x = %s\", x)\n",
    "\n",
    "\"\"\"INFO: Used to confirm that things are working as expected. \n",
    "   It provides general information about the program's progress and important milestones.\"\"\"\n",
    "logging.basicConfig(level=logging.INFO)\n",
    "logging.info(\"Server started on port 8080.\")\n",
    "\n",
    "\"\"\"WARNING: Used to indicate potential issues or non-fatal errors that may need attention. \n",
    "   It doesn't halt the program's execution but serves as a warning to developers or system administrators.\"\"\"\n",
    "logging.basicConfig(level=logging.WARNING)\n",
    "logging.warning(\"Disk space is running low.\")\n",
    "\n",
    "\"\"\"ERROR: Used to indicate errors that may prevent certain functionality or cause program failure.\n",
    "   It signifies significant issues that need attention and may require intervention or investigation.\"\"\"\n",
    "logging.basicConfig(level=logging.ERROR)\n",
    "logging.error(\"Failed to connect to the database.\")\n",
    "\n",
    "\"\"\"CRITICAL: The highest log level used for critical errors that may lead to program termination or severe consequences. \n",
    "   It indicates an unrecoverable error or a system failure.\"\"\"\n",
    "logging.basicConfig(level=logging.CRITICAL)\n",
    "logging.critical(\"System crashed due to memory overload.\")"
   ]
  },
  {
   "cell_type": "code",
   "execution_count": null,
   "id": "a86c440a",
   "metadata": {},
   "outputs": [],
   "source": [
    "7. What are log formatters in Python logging, and how can you customise the log\n",
    "message format using formatters?\n",
    "Answer:\n",
    "    Log formatters in Python logging are responsible for defining the structure and format of log messages.\n",
    "    They allow you to customize the appearance of log messages by specifying the layout and content of each log record. \n",
    "    The logging module provides the Formatter class that allows you to create and configure log formatters.\"\"\""
   ]
  },
  {
   "cell_type": "code",
   "execution_count": 5,
   "id": "eba5fcdc",
   "metadata": {},
   "outputs": [],
   "source": [
    "import logging\n",
    "formatter = logging.Formatter('%(asctime)s - %(levelname)s - %(message)s')"
   ]
  },
  {
   "cell_type": "code",
   "execution_count": null,
   "id": "20713892",
   "metadata": {},
   "outputs": [],
   "source": [
    "8. How can you set up logging to capture log messages from multiple modules or\n",
    "classes in a Python application?"
   ]
  },
  {
   "cell_type": "code",
   "execution_count": null,
   "id": "b8fa7f22",
   "metadata": {},
   "outputs": [],
   "source": [
    "import logging\n",
    "logging.basicConfig(level=logging.DEBUG, filename='app.log', filemode='w')\n",
    "logger = logging.getLogger('module1')     #Here difine the required module\n",
    "logger.info('This is an informational message')\n",
    "logger.error('An error occurred')"
   ]
  },
  {
   "cell_type": "code",
   "execution_count": null,
   "id": "749be401",
   "metadata": {},
   "outputs": [],
   "source": [
    "9. What is the difference between the logging and print statements in Python? When\n",
    "should you use logging over print statements in a real-world application?\n",
    "Answer:\n",
    "    print statements are quick and simple for basic output, logging provides a more comprehensive and flexible \n",
    "    solution for capturing and managing log messages in real-world applications. \n",
    "    It offers greater control, configurability, and scalability, making it well-suited for debugging, error tracking, \n",
    "    long-term analysis, and production environments.\n"
   ]
  },
  {
   "cell_type": "code",
   "execution_count": null,
   "id": "c881acc6",
   "metadata": {},
   "outputs": [],
   "source": [
    "10. Write a Python program that logs a message to a file named \"app.log\" with the\n",
    "following requirements:\n",
    "● The log message should be \"Hello, World!\"\n",
    "● The log level should be set to \"INFO.\"\n",
    "● The log file should append new log entries without overwriting previous ones."
   ]
  },
  {
   "cell_type": "code",
   "execution_count": 6,
   "id": "de603970",
   "metadata": {},
   "outputs": [
    {
     "name": "stderr",
     "output_type": "stream",
     "text": [
      "INFO:root:Hello, World!\n"
     ]
    }
   ],
   "source": [
    "import logging\n",
    "\n",
    "# Configure logging\n",
    "logging.basicConfig(\n",
    "    level=logging.INFO,\n",
    "    filename='app.log',\n",
    "    filemode='a',\n",
    "    format='%(asctime)s - %(levelname)s - %(message)s'\n",
    ")\n",
    "\n",
    "# Log the message\n",
    "logging.info('Hello, World!')"
   ]
  },
  {
   "cell_type": "code",
   "execution_count": null,
   "id": "ca466d5e",
   "metadata": {},
   "outputs": [],
   "source": [
    "11. Create a Python program that logs an error message to the console and a file named\n",
    "\"errors.log\" if an exception occurs during the program's execution. The error\n",
    "message should include the exception type and a timestamp."
   ]
  },
  {
   "cell_type": "code",
   "execution_count": 7,
   "id": "f0276e51",
   "metadata": {},
   "outputs": [],
   "source": [
    "import logging\n",
    "\n",
    "# Configure logging\n",
    "logging.basicConfig(\n",
    "    level=logging.ERROR,\n",
    "    format='%(asctime)s - %(levelname)s - %(message)s',\n",
    "    handlers=[\n",
    "        logging.StreamHandler(),  # Console handler\n",
    "        logging.FileHandler('errors.log')  # File handler\n",
    "    ]\n",
    ")"
   ]
  },
  {
   "cell_type": "code",
   "execution_count": null,
   "id": "95504941",
   "metadata": {},
   "outputs": [],
   "source": []
  }
 ],
 "metadata": {
  "kernelspec": {
   "display_name": "Python 3 (ipykernel)",
   "language": "python",
   "name": "python3"
  },
  "language_info": {
   "codemirror_mode": {
    "name": "ipython",
    "version": 3
   },
   "file_extension": ".py",
   "mimetype": "text/x-python",
   "name": "python",
   "nbconvert_exporter": "python",
   "pygments_lexer": "ipython3",
   "version": "3.9.13"
  }
 },
 "nbformat": 4,
 "nbformat_minor": 5
}
