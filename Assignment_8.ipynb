{
 "cells": [
  {
   "cell_type": "code",
   "execution_count": null,
   "id": "698c0e00",
   "metadata": {},
   "outputs": [],
   "source": [
    "                                                                      Marvel Samuel Jacob"
   ]
  },
  {
   "cell_type": "code",
   "execution_count": null,
   "id": "2a5ea74f",
   "metadata": {},
   "outputs": [],
   "source": [
    "1. In Python, what is the difference between a built-in function and a user-defined function? Provide an\n",
    "example of each.\n",
    "Answer:\n",
    "    ->Built-in Function is a function which is created within the python language. We are no need to create \n",
    "      a function again for these functions.\n",
    "    ->User-defined functions are the functions which are created by users in some situations to reduce number \n",
    "      of lines of code."
   ]
  },
  {
   "cell_type": "code",
   "execution_count": 12,
   "id": "f76aebe4",
   "metadata": {},
   "outputs": [
    {
     "name": "stdout",
     "output_type": "stream",
     "text": [
      "Hello, World!\n",
      "20\n"
     ]
    }
   ],
   "source": [
    "#Example for built in function:\n",
    "print(\"Hello, World!\")\n",
    "\n",
    "#Example for user-defined functions:\n",
    "def area_calculator(x,y):\n",
    "    area=x*y\n",
    "    return area\n",
    "a=area_calculator(5,4)\n",
    "print(a)"
   ]
  },
  {
   "cell_type": "code",
   "execution_count": null,
   "id": "af9e7633",
   "metadata": {},
   "outputs": [],
   "source": [
    "2. How can you pass arguments to a function in Python? Explain the difference between positional\n",
    "arguments and keyword arguments.\n",
    "Answer:\n",
    "    ->Positional arguments are passed to a function based on their position or order. \n",
    "    ->Keyword arguments are passed to a function using the names of the parameters.\n"
   ]
  },
  {
   "cell_type": "code",
   "execution_count": 11,
   "id": "539f9514",
   "metadata": {},
   "outputs": [
    {
     "name": "stdout",
     "output_type": "stream",
     "text": [
      "8\n",
      "8\n"
     ]
    }
   ],
   "source": [
    "def add_numbers(x, y): # Positional Argument\n",
    "    return x + y\n",
    "\n",
    "result = add_numbers(5, 3)\n",
    "print(result) \n",
    "\n",
    "def power(base, exponent):  # Keyword Argument\n",
    "    return base ** exponent\n",
    "\n",
    "result = power(base=2, exponent=3)\n",
    "print(result) "
   ]
  },
  {
   "cell_type": "code",
   "execution_count": null,
   "id": "77d7fd24",
   "metadata": {},
   "outputs": [],
   "source": [
    "3. What is the purpose of the return statement in a function? Can a function have multiple return\n",
    "statements? Explain with an example.\n",
    "Answer:\n",
    "    The return statement allows a function to provide a value or values as output to the caller. \n",
    "    A function can have multiple return statements,but only one of them is executed,\n",
    "    and the function exits upon encountering a return statement."
   ]
  },
  {
   "cell_type": "code",
   "execution_count": 10,
   "id": "613e69a7",
   "metadata": {},
   "outputs": [
    {
     "name": "stdout",
     "output_type": "stream",
     "text": [
      "Grade: B\n"
     ]
    }
   ],
   "source": [
    "def get_grade(score):\n",
    "    if score >= 90:\n",
    "        return \"A\"\n",
    "    elif score >= 80:\n",
    "        return \"B\"\n",
    "    elif score >= 70:\n",
    "        return \"C\"\n",
    "    else:\n",
    "        return \"F\"\n",
    "result = get_grade(82)\n",
    "print(\"Grade:\", result)"
   ]
  },
  {
   "cell_type": "code",
   "execution_count": null,
   "id": "8a5e27fa",
   "metadata": {},
   "outputs": [],
   "source": [
    "4. What are lambda functions in Python? How are they different from regular functions? Provide an\n",
    "example where a lambda function can be useful.\n",
    "Answer:\n",
    "  lambda functions are anonymous functions which are used for one time use purpose mostly\n",
    "  these are used in map,reduce,filter used cases"
   ]
  },
  {
   "cell_type": "code",
   "execution_count": 8,
   "id": "46143076",
   "metadata": {},
   "outputs": [
    {
     "name": "stdout",
     "output_type": "stream",
     "text": [
      "[('orange', 1), ('banana', 2), ('apple', 3), ('cherry', 5)]\n"
     ]
    }
   ],
   "source": [
    "fruits = [('apple', 3), ('banana', 2), ('cherry', 5), ('orange', 1)]\n",
    "sorted_fruits = sorted(fruits, key=lambda x: x[1])\n",
    "print(sorted_fruits)"
   ]
  },
  {
   "cell_type": "code",
   "execution_count": null,
   "id": "b2d09a82",
   "metadata": {},
   "outputs": [],
   "source": [
    "5. How does the concept of \"scope\" apply to functions in Python? Explain the difference between local\n",
    "scope and global scope.\n",
    "Answer:\n",
    "    \"scope\" refers to the region of the program where a particular variable is accessible. \n",
    "     ->Local Scope: Variables defined inside a function are said to have a local scope.\n",
    "     They are only accessible within the function where they are defined.\n",
    "     ->Global Scope: Variables defined outside of any function or block have a global scope.\n",
    "     They are accessible from any part of the program, including inside functions."
   ]
  },
  {
   "cell_type": "code",
   "execution_count": 5,
   "id": "dd778a4a",
   "metadata": {},
   "outputs": [
    {
     "name": "stdout",
     "output_type": "stream",
     "text": [
      "10\n"
     ]
    }
   ],
   "source": [
    "def my_function():\n",
    "    x = 10  # Local variable\n",
    "    print(x)\n",
    "my_function()"
   ]
  },
  {
   "cell_type": "code",
   "execution_count": 6,
   "id": "64b7d9b2",
   "metadata": {},
   "outputs": [
    {
     "name": "stdout",
     "output_type": "stream",
     "text": [
      "20\n"
     ]
    }
   ],
   "source": [
    "y=20 #Global variable\n",
    "def my_function():\n",
    "    print(y)\n",
    "my_function()"
   ]
  },
  {
   "cell_type": "code",
   "execution_count": null,
   "id": "b9f3f2e2",
   "metadata": {},
   "outputs": [],
   "source": [
    "6. How can you use the \"return\" statement in a Python function to return multiple values?\n"
   ]
  },
  {
   "cell_type": "code",
   "execution_count": 4,
   "id": "9f33b7e3",
   "metadata": {},
   "outputs": [
    {
     "name": "stdout",
     "output_type": "stream",
     "text": [
      "[10, 20, 30]\n"
     ]
    }
   ],
   "source": [
    "def get_values():\n",
    "    x = 10\n",
    "    y = 20\n",
    "    z = 30\n",
    "    return [x,y,z]\n",
    "result = get_values()\n",
    "print(result)\n"
   ]
  },
  {
   "cell_type": "code",
   "execution_count": null,
   "id": "9ae0d6cd",
   "metadata": {},
   "outputs": [],
   "source": [
    "7. What is the difference between the \"pass by value\" and \"pass by reference\" concepts when it\n",
    "comes to function arguments in Python?\n",
    "Answer:\n",
    "   In pass by value, a copy of the value of the variable is passed to the function.\n",
    "Any modifications made to the parameter within the function do not affect the original variable outside the function.\n",
    "\n",
    "Pass by Reference:\n",
    "In pass by reference, a reference to the variable is passed to the function. \n",
    "Any modifications made to the parameter within the function also affect the original variable outside the function.\n"
   ]
  },
  {
   "cell_type": "code",
   "execution_count": 3,
   "id": "6a4d86bd",
   "metadata": {},
   "outputs": [
    {
     "name": "stdout",
     "output_type": "stream",
     "text": [
      "10\n"
     ]
    }
   ],
   "source": [
    "#Eg: pass by value\n",
    "def update_value(num):\n",
    "    num = 100\n",
    "x = 10\n",
    "update_value(x)\n",
    "print(x)"
   ]
  },
  {
   "cell_type": "code",
   "execution_count": null,
   "id": "34d80bd4",
   "metadata": {},
   "outputs": [],
   "source": [
    "#Eg: pass by reference\n",
    "def update_list(lst):\n",
    "    lst.append(4)\n",
    "my_list = [1, 2, 3]\n",
    "update_list(my_list)\n",
    "print(my_list)"
   ]
  },
  {
   "cell_type": "code",
   "execution_count": null,
   "id": "4f94d4ed",
   "metadata": {},
   "outputs": [],
   "source": [
    "8. Create a function that can intake integer or decimal value and do following operations:\n",
    "a. Logarithmic function (log x)\n",
    "b. Exponential function (exp(x))\n",
    "c. Power function with base 2 (2x)\n",
    "d. Square root"
   ]
  },
  {
   "cell_type": "code",
   "execution_count": 2,
   "id": "f21abdd5",
   "metadata": {},
   "outputs": [
    {
     "name": "stdout",
     "output_type": "stream",
     "text": [
      "Logarithmic function: 0.6931471805599453\n",
      "Exponential function: 7.38905609893065\n",
      "Power function with base 2: 4.0\n",
      "Square root: 1.4142135623730951\n"
     ]
    }
   ],
   "source": [
    "import math\n",
    "\n",
    "def math_operations(value):\n",
    "    # Logarithmic function (log x)\n",
    "    log_result = math.log(value)\n",
    "\n",
    "    # Exponential function (exp(x))\n",
    "    exp_result = math.exp(value)\n",
    "\n",
    "    # Power function with base 2 (2^x)\n",
    "    power_result = math.pow(2, value)\n",
    "\n",
    "    # Square root\n",
    "    sqrt_result = math.sqrt(value)\n",
    "\n",
    "    return log_result, exp_result, power_result, sqrt_result\n",
    "\n",
    "# Testing the function\n",
    "result = math_operations(2)\n",
    "print(\"Logarithmic function:\", result[0])\n",
    "print(\"Exponential function:\", result[1])\n",
    "print(\"Power function with base 2:\", result[2])\n",
    "print(\"Square root:\", result[3])"
   ]
  },
  {
   "cell_type": "code",
   "execution_count": null,
   "id": "26c8873b",
   "metadata": {},
   "outputs": [],
   "source": [
    "9. Create a function that takes a full name as an argument and returns first name and last name."
   ]
  },
  {
   "cell_type": "code",
   "execution_count": 1,
   "id": "f25c94e8",
   "metadata": {},
   "outputs": [
    {
     "name": "stdout",
     "output_type": "stream",
     "text": [
      "first name: Marvel\n",
      "last name: Jacob\n"
     ]
    }
   ],
   "source": [
    "def name_split(name):\n",
    "    s=name.split(\" \")\n",
    "    f_name=s[0]\n",
    "    l_name=s[1]\n",
    "    print(\"first name:\",f_name)\n",
    "    print(\"last name:\",l_name)\n",
    "name_split(\"Marvel Jacob\")"
   ]
  }
 ],
 "metadata": {
  "kernelspec": {
   "display_name": "Python 3 (ipykernel)",
   "language": "python",
   "name": "python3"
  },
  "language_info": {
   "codemirror_mode": {
    "name": "ipython",
    "version": 3
   },
   "file_extension": ".py",
   "mimetype": "text/x-python",
   "name": "python",
   "nbconvert_exporter": "python",
   "pygments_lexer": "ipython3",
   "version": "3.9.13"
  }
 },
 "nbformat": 4,
 "nbformat_minor": 5
}
