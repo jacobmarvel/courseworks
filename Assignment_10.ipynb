{
 "cells": [
  {
   "cell_type": "code",
   "execution_count": null,
   "id": "3fb1b7b0",
   "metadata": {},
   "outputs": [],
   "source": [
    "                                                                        Marvel Samuel Jacob"
   ]
  },
  {
   "cell_type": "code",
   "execution_count": null,
   "id": "d0fbdc6c",
   "metadata": {},
   "outputs": [],
   "source": [
    "1. What is the role of try and exception block?\n",
    "Answer:\n",
    "   The try-except block in Python is used to handle exceptions or errors that may occur during the execution of a program.\n",
    "   It allows you to write code that can potentially raise an exception and handle it gracefully, \n",
    "   preventing the program from crashing or terminating abruptly."
   ]
  },
  {
   "cell_type": "code",
   "execution_count": null,
   "id": "ccd9e5ed",
   "metadata": {},
   "outputs": [],
   "source": [
    "2. What is the syntax for a basic try-except block?"
   ]
  },
  {
   "cell_type": "code",
   "execution_count": null,
   "id": "356be5b3",
   "metadata": {},
   "outputs": [],
   "source": [
    "try:\n",
    "    # Code that may raise an exception\n",
    "except ExceptionType:\n",
    "    # Code to handle the exception"
   ]
  },
  {
   "cell_type": "code",
   "execution_count": null,
   "id": "757035f7",
   "metadata": {},
   "outputs": [],
   "source": [
    "3. What happens if an exception occurs inside a try block and there is no matching\n",
    "except block?\n",
    "Answer:\n",
    "    If an exception occurs inside a try block and there is no matching except block to handle that specific exception,\n",
    "    the exception will propagate up the call stack. This means that the program will terminate with an error message, \n",
    "    displaying information about the unhandled exception."
   ]
  },
  {
   "cell_type": "code",
   "execution_count": 3,
   "id": "98bb0ca0",
   "metadata": {},
   "outputs": [
    {
     "ename": "ZeroDivisionError",
     "evalue": "division by zero",
     "output_type": "error",
     "traceback": [
      "\u001b[1;31m---------------------------------------------------------------------------\u001b[0m",
      "\u001b[1;31mZeroDivisionError\u001b[0m                         Traceback (most recent call last)",
      "\u001b[1;32m~\\AppData\\Local\\Temp\\ipykernel_22108\\4050755281.py\u001b[0m in \u001b[0;36m<module>\u001b[1;34m\u001b[0m\n\u001b[0;32m      2\u001b[0m     \u001b[0mnum1\u001b[0m \u001b[1;33m=\u001b[0m \u001b[1;36m10\u001b[0m\u001b[1;33m\u001b[0m\u001b[1;33m\u001b[0m\u001b[0m\n\u001b[0;32m      3\u001b[0m     \u001b[0mnum2\u001b[0m \u001b[1;33m=\u001b[0m \u001b[1;36m0\u001b[0m\u001b[1;33m\u001b[0m\u001b[1;33m\u001b[0m\u001b[0m\n\u001b[1;32m----> 4\u001b[1;33m     \u001b[0mresult\u001b[0m \u001b[1;33m=\u001b[0m \u001b[0mnum1\u001b[0m \u001b[1;33m/\u001b[0m \u001b[0mnum2\u001b[0m\u001b[1;33m\u001b[0m\u001b[1;33m\u001b[0m\u001b[0m\n\u001b[0m\u001b[0;32m      5\u001b[0m     \u001b[0mprint\u001b[0m\u001b[1;33m(\u001b[0m\u001b[1;34m\"The result is:\"\u001b[0m\u001b[1;33m,\u001b[0m \u001b[0mresult\u001b[0m\u001b[1;33m)\u001b[0m\u001b[1;33m\u001b[0m\u001b[1;33m\u001b[0m\u001b[0m\n\u001b[0;32m      6\u001b[0m \u001b[1;32mexcept\u001b[0m \u001b[0mValueError\u001b[0m\u001b[1;33m:\u001b[0m\u001b[1;33m\u001b[0m\u001b[1;33m\u001b[0m\u001b[0m\n",
      "\u001b[1;31mZeroDivisionError\u001b[0m: division by zero"
     ]
    }
   ],
   "source": [
    "try:\n",
    "    num1 = 10\n",
    "    num2 = 0\n",
    "    result = num1 / num2\n",
    "    print(\"The result is:\", result)\n",
    "except ValueError:\n",
    "    print(\"ZeroDivisionError\")\n",
    "'''In the above example zero division error occured in try block but we give the value error as exception in except block.\n",
    "   so it terminate abruptly'''"
   ]
  },
  {
   "cell_type": "code",
   "execution_count": null,
   "id": "edbf11af",
   "metadata": {},
   "outputs": [],
   "source": [
    "4. What is the difference between using a bare except block and specifying a specific\n",
    "exception type?\n",
    "Answer:\n",
    "    ->Bare Except Block:\n",
    "      A bare except block is written as except: without specifying any exception type.\n",
    "      It catches and handles all types of exceptions that occur within the corresponding try block.\n",
    "\n",
    "    ->Specific Exception Type:\n",
    "      A specific exception type is written as except ExceptionType: where ExceptionType is the type of exception\n",
    "      you want to catch.\n",
    "      It catches and handles only the specified exception type and any of its subclasses.\n"
   ]
  },
  {
   "cell_type": "code",
   "execution_count": 4,
   "id": "05dd1a8f",
   "metadata": {},
   "outputs": [
    {
     "name": "stdout",
     "output_type": "stream",
     "text": [
      "Enter a number: 5\n",
      "Enter another number: 5.67\n",
      "An unexpected error occurred: invalid literal for int() with base 10: '5.67'\n"
     ]
    }
   ],
   "source": [
    "try:\n",
    "    num1 = int(input(\"Enter a number: \"))\n",
    "    num2 = int(input(\"Enter another number: \"))\n",
    "    result = num1 / num2\n",
    "    print(\"The result is:\", result)\n",
    "except ZeroDivisionError:            #specific exception\n",
    "    print(\"Error: Cannot divide by zero.\")\n",
    "except Exception as e:                #bare exception\n",
    "    print(\"An unexpected error occurred:\", str(e))"
   ]
  },
  {
   "cell_type": "code",
   "execution_count": null,
   "id": "d52f8bb7",
   "metadata": {},
   "outputs": [],
   "source": [
    "5. Can you have nested try-except blocks in Python? If yes, then give an example.\n",
    "Answer:\n",
    "    Yes, it is possible to have nested try-except blocks in Python. You can have one or more try-except blocks\n",
    "    within another try or except block. \n",
    "    This allows you to handle exceptions at different levels of the code hierarchy, providing more granular \n",
    "    exception handling based on specific scenarios.\n"
   ]
  },
  {
   "cell_type": "code",
   "execution_count": 5,
   "id": "c575b5ac",
   "metadata": {},
   "outputs": [
    {
     "name": "stdout",
     "output_type": "stream",
     "text": [
      "Enter a number: 5\n",
      "Enter another number: 5.67\n",
      "Error: Invalid input. Please enter a valid number in the outer try-except block.\n"
     ]
    }
   ],
   "source": [
    "try:\n",
    "    # Outer try block\n",
    "    num1 = int(input(\"Enter a number: \"))\n",
    "    num2 = int(input(\"Enter another number: \"))\n",
    "\n",
    "    try:\n",
    "        # Inner try block\n",
    "        result = num1 / num2\n",
    "        print(\"The result is:\", result)\n",
    "    except ZeroDivisionError:\n",
    "        print(\"Error: Cannot divide by zero in the inner try-except block.\")\n",
    "\n",
    "except ValueError:\n",
    "    print(\"Error: Invalid input. Please enter a valid number in the outer try-except block.\")"
   ]
  },
  {
   "cell_type": "code",
   "execution_count": null,
   "id": "cd76d561",
   "metadata": {},
   "outputs": [],
   "source": [
    "6. Can we use multiple exception blocks, if yes then give an example.\n",
    "Answer:\n",
    "    Yes, you can use multiple except blocks to handle different types of exceptions in Python. \n",
    "    This allows you to provide specific exception handling for each type of error that may occur."
   ]
  },
  {
   "cell_type": "code",
   "execution_count": 6,
   "id": "549db8aa",
   "metadata": {},
   "outputs": [
    {
     "name": "stdout",
     "output_type": "stream",
     "text": [
      "Error: Cannot divide by zero.\n"
     ]
    }
   ],
   "source": [
    "try:\n",
    "    num1 = 5\n",
    "    num2 = 0\n",
    "    result = num1 / num2\n",
    "    print(\"The result is:\", result)\n",
    "except ZeroDivisionError:\n",
    "    print(\"Error: Cannot divide by zero.\")\n",
    "except ValueError:\n",
    "    print(\"Error: Invalid input. Please enter a valid number.\")"
   ]
  },
  {
   "cell_type": "code",
   "execution_count": null,
   "id": "a418e556",
   "metadata": {},
   "outputs": [],
   "source": [
    "7. Write the reason due to which following errors are raised:\n",
    "a. EOFError\n",
    "b. FloatingPointError\n",
    "c. IndexError\n",
    "d. MemoryError\n",
    "e. OverflowError\n",
    "f. TabError\n",
    "g. ValueError\n",
    "Answer:\n",
    "    ->EOFError: This error is raised when the input() function reaches the end of a file (EOF) or an input stream \n",
    "      unexpectedly. It occurs when there is no more data to be read.\n",
    "\n",
    "    ->FloatingPointError: This error is raised when a floating-point arithmetic operation fails. It typically \n",
    "      occurs when there is an exceptional condition in floating-point calculations, such as division by zero or \n",
    "      an invalid operation.\n",
    "\n",
    "    ->IndexError: This error is raised when an index is out of range in a sequence (e.g., a list, tuple, or string). \n",
    "      It occurs when you try to access an element using an index that is either negative or exceeds the length of the \n",
    "      sequence.\n",
    "\n",
    "    ->MemoryError: This error is raised when an operation cannot be completed due to insufficient memory. \n",
    "      It occurs when the system is unable to allocate enough memory to fulfill a requested operation, such as \n",
    "      creating a large object or storing a large amount of data.\n",
    "\n",
    "    ->OverflowError: This error is raised when the result of an arithmetic operation exceeds the maximum representable \n",
    "      value for a numeric type. It occurs when a calculation produces a value that is too large to be represented\n",
    "      within the bounds of the data type.\n",
    "\n",
    "    ->TabError: This error is raised when there are issues with the indentation of code using tabs and spaces \n",
    "      inconsistently. It occurs when Python encounters an indentation error, such as mixing tabs and spaces or\n",
    "      using an incorrect number of indentation levels.\n",
    "\n",
    "    ->ValueError: This error is raised when an operation or function receives an argument of the correct data type \n",
    "      but with an invalid value. It occurs when the input value is inappropriate for the specific operation or \n",
    "      function being performed"
   ]
  },
  {
   "cell_type": "code",
   "execution_count": null,
   "id": "56136f91",
   "metadata": {},
   "outputs": [],
   "source": [
    "8. Write code for the following given scenario and add try-exception block to it.\n",
    "a. Program to divide two numbers\n",
    "b. Program to convert a string to an integer\n",
    "c. Program to access an element in a list\n",
    "d. Program to handle a specific exception"
   ]
  },
  {
   "cell_type": "code",
   "execution_count": 7,
   "id": "d2747a9a",
   "metadata": {},
   "outputs": [
    {
     "name": "stdout",
     "output_type": "stream",
     "text": [
      "Error: Cannot divide by zero.\n",
      "Enter the numerator: 5\n",
      "Enter the denominator: 0\n",
      "Error: Cannot divide by zero.\n",
      "Enter the index: 6\n",
      "Error: Index out of range. Please enter a valid index within the list.\n",
      "Enter a number: 4\n",
      "The number is: 4\n",
      "Enter a number: 5\n",
      "Enter another number: 0\n",
      "An error occurred: division by zero\n"
     ]
    }
   ],
   "source": [
    "#a.programe to divide two numbers\n",
    "try:\n",
    "    num1 = 3\n",
    "    num2 = 0\n",
    "    result = num1 / num2\n",
    "    print(\"The result of the division is:\", result)\n",
    "except ZeroDivisionError:\n",
    "    print(\"Error: Cannot divide by zero.\")\n",
    "\n",
    "#b.Programe to convert a string to an integer\n",
    "try:\n",
    "    num1 = int(input(\"Enter the numerator: \"))\n",
    "    num2 = int(input(\"Enter the denominator: \"))\n",
    "    result = num1 / num2\n",
    "    print(\"The result of the division is:\", result)\n",
    "except ZeroDivisionError:\n",
    "    print(\"Error: Cannot divide by zero.\")\n",
    "\n",
    "#c.programe to access an element in a list\n",
    "try:\n",
    "    my_list = [1, 2, 3, 4, 5]\n",
    "    index = int(input(\"Enter the index: \"))\n",
    "    value = my_list[index]\n",
    "    print(\"The value at index\", index, \"is:\", value)\n",
    "except IndexError:\n",
    "    print(\"Error: Index out of range. Please enter a valid index within the list.\")\n",
    "\n",
    "#d. programe to handle specific exception\n",
    "try:\n",
    "    num = int(input(\"Enter a number: \"))\n",
    "    if num < 0:\n",
    "        raise ValueError(\"Negative numbers are not allowed.\")\n",
    "    print(\"The number is:\", num)\n",
    "except ValueError as e:\n",
    "    print(\"Error:\", str(e))\n",
    "    \n",
    "#e.programe to handle any exception\n",
    "try:\n",
    "    num1 = int(input(\"Enter a number: \"))\n",
    "    num2 = int(input(\"Enter another number: \"))\n",
    "    result = num1 / num2\n",
    "    print(\"The result is:\", result)\n",
    "except Exception as e:\n",
    "    print(\"An error occurred:\", str(e))"
   ]
  }
 ],
 "metadata": {
  "kernelspec": {
   "display_name": "Python 3 (ipykernel)",
   "language": "python",
   "name": "python3"
  },
  "language_info": {
   "codemirror_mode": {
    "name": "ipython",
    "version": 3
   },
   "file_extension": ".py",
   "mimetype": "text/x-python",
   "name": "python",
   "nbconvert_exporter": "python",
   "pygments_lexer": "ipython3",
   "version": "3.9.13"
  }
 },
 "nbformat": 4,
 "nbformat_minor": 5
}
